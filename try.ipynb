{
 "cells": [
  {
   "cell_type": "code",
   "execution_count": 2,
   "metadata": {},
   "outputs": [],
   "source": [
    "#!tesseract --version\n",
    "import os\n",
    "os.getcwd()"
   ]
  },
  {
   "cell_type": "code",
   "execution_count": 3,
   "metadata": {},
   "outputs": [
    {
     "name": "stdout",
     "output_type": "stream",
     "text": [
      "shell-init: error retrieving current directory: getcwd: cannot access parent directories: No such file or directory\n",
      "chdir: error retrieving current directory: getcwd: cannot access parent directories: No such file or directory\n",
      "/bin/sh: line 0: cd: sample-invoices/: No such file or directory\n"
     ]
    }
   ],
   "source": [
    "!cd sample-invoices/ && pdftohtml -c -hidden -xml 17-GAYATRI ENT-NOV17.pdf 17-GAYATRI ENT-NOV17.pdf.xml"
   ]
  },
  {
   "cell_type": "code",
   "execution_count": 4,
   "metadata": {},
   "outputs": [
    {
     "name": "stdout",
     "output_type": "stream",
     "text": [
      "S Dashboard Courses ® a €\n",
      "\n",
      "Techniques / Project\n",
      "\n",
      "Ww v\n",
      "ion Tree v\n",
      "nble\n",
      "\n",
      "v\n",
      "\n",
      "ct on Ensemble\n",
      "1 Decision Trees\n",
      "\n",
      "oblem Statement ©,\n",
      "\n",
      "ement- Ensemble\n",
      "\n",
      "ement- ensemble\n",
      "ittribute details.pdt\n",
      "\n",
      " \n",
      "\n",
      "B Project\n",
      "Submission type Z Online upload Due Date : Jan 19, 11:59 P\n",
      "Total Score : 60 Available from Z Jan 03, 8:00 AN\n",
      "\n",
      "|e “The due date fortis assignment has passed\n",
      "\n",
      "Description\n",
      "Problem statement (Term Deposit Sale)\n",
      "Goal\n",
      "\n",
      "Using the collected from existing customers, build a model that will help the marketing team identify pot\n",
      "customers who are relatively more likely to subscribe term deposit and thus increase their hit ratio.\n",
      "\n",
      "Resources Available\n",
      "\n",
      "The historical data for this project is available in file\n"
     ]
    }
   ],
   "source": [
    "import pytesseract\n",
    "from PIL import Image\n",
    "\n",
    "img = Image.open('Tesseract/ScreenShot.png')\n",
    "pytesseract.pytesseract.tesseract_cmd = '/usr/local/bin/tesseract'\n",
    "print( pytesseract.image_to_string(img) )"
   ]
  },
  {
   "cell_type": "code",
   "execution_count": null,
   "metadata": {},
   "outputs": [],
   "source": []
  }
 ],
 "metadata": {
  "kernelspec": {
   "display_name": "Python 3",
   "language": "python",
   "name": "python3"
  },
  "language_info": {
   "codemirror_mode": {
    "name": "ipython",
    "version": 3
   },
   "file_extension": ".py",
   "mimetype": "text/x-python",
   "name": "python",
   "nbconvert_exporter": "python",
   "pygments_lexer": "ipython3",
   "version": "3.7.4"
  }
 },
 "nbformat": 4,
 "nbformat_minor": 4
}
