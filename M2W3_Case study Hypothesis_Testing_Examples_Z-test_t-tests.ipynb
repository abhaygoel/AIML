{
 "cells": [
  {
   "cell_type": "markdown",
   "metadata": {
    "_cell_guid": "cf40190e-4ebf-4a2e-8e5b-1d30164f9c74",
    "_uuid": "e73e536b1c5b44bfe0015cfdb2e4d031d6d4cbeb",
    "colab_type": "text",
    "id": "Iawv0qTtE42x"
   },
   "source": [
    "## Overview\n",
    "Let's say you know the mean and standard deviation of a population. How can you tell if a sample is from this population or some other population? Although we may never know with 100% certainty, we can look for statistically significant differences between the sample statistics and the population paramters. This is done by first stating what is refered to as a null hypothesis, which in this scenario would be that there is no difference between the sample mean and the population mean. Then we look for statistical evidence to accept or reject the null hypothesis. What if we don't know the population parameters? After this notebook you will know:\n",
    "* How to formulate a null hypothesis and alternative hypothesis for comparing a sample mean to a population mean.\n",
    "* How to conduct a z-test using the z-statistic for the sample mean to gain statistical evidence to accept or reject the null hypothesis.\n",
    "* How to one-sample, paired sample, and independent sample t-tests when the population standard deviation is unknown and must be estimated using the sample standard deviation.\n",
    "\n"
   ]
  },
  {
   "cell_type": "markdown",
   "metadata": {
    "_cell_guid": "b3296b0c-eb2f-4886-b54b-4a8cd12dbdd7",
    "_uuid": "c070713f2c711df50418f4137e60055b12dab7ab",
    "colab_type": "text",
    "id": "gO-Znsc7E42y"
   },
   "source": [
    "The following cell will import the WineEnthusiast data set using pandas. The data is linked to above and is formated as a CSV (comma-separated-values) file. Such a file could be opend in Excel but here we simply load the file into a pandas data structure called a dataframe and print out the first couple rows of the dataframe."
   ]
  },
  {
   "cell_type": "code",
   "execution_count": 1,
   "metadata": {
    "_cell_guid": "bf24efc1-e20f-4817-bd72-52ebe0ca96a0",
    "_uuid": "eb3e15689e95e9c1118ec39a48b2497af59e3b23",
    "colab": {},
    "colab_type": "code",
    "id": "N1kgkhiWE42z"
   },
   "outputs": [],
   "source": [
    "import numpy as np\n",
    "import pandas as pd\n",
    "import matplotlib.pyplot as plt\n",
    "import seaborn as sns\n",
    "import scipy.stats as stats # some useful stuff\n",
    "wine_data = pd.read_csv(\"wine_data.csv\")"
   ]
  },
  {
   "cell_type": "code",
   "execution_count": 2,
   "metadata": {},
   "outputs": [
    {
     "data": {
      "text/html": [
       "<div>\n",
       "<style scoped>\n",
       "    .dataframe tbody tr th:only-of-type {\n",
       "        vertical-align: middle;\n",
       "    }\n",
       "\n",
       "    .dataframe tbody tr th {\n",
       "        vertical-align: top;\n",
       "    }\n",
       "\n",
       "    .dataframe thead th {\n",
       "        text-align: right;\n",
       "    }\n",
       "</style>\n",
       "<table border=\"1\" class=\"dataframe\">\n",
       "  <thead>\n",
       "    <tr style=\"text-align: right;\">\n",
       "      <th></th>\n",
       "      <th>0</th>\n",
       "      <th>1</th>\n",
       "      <th>2</th>\n",
       "      <th>3</th>\n",
       "      <th>4</th>\n",
       "    </tr>\n",
       "  </thead>\n",
       "  <tbody>\n",
       "    <tr>\n",
       "      <td>Unnamed: 0</td>\n",
       "      <td>0</td>\n",
       "      <td>1</td>\n",
       "      <td>2</td>\n",
       "      <td>3</td>\n",
       "      <td>4</td>\n",
       "    </tr>\n",
       "    <tr>\n",
       "      <td>country</td>\n",
       "      <td>Italy</td>\n",
       "      <td>Portugal</td>\n",
       "      <td>US</td>\n",
       "      <td>US</td>\n",
       "      <td>US</td>\n",
       "    </tr>\n",
       "    <tr>\n",
       "      <td>description</td>\n",
       "      <td>Aromas include tropical fruit, broom, brimston...</td>\n",
       "      <td>This is ripe and fruity, a wine that is smooth...</td>\n",
       "      <td>Tart and snappy, the flavors of lime flesh and...</td>\n",
       "      <td>Pineapple rind, lemon pith and orange blossom ...</td>\n",
       "      <td>Much like the regular bottling from 2012, this...</td>\n",
       "    </tr>\n",
       "    <tr>\n",
       "      <td>designation</td>\n",
       "      <td>Vulkà Bianco</td>\n",
       "      <td>Avidagos</td>\n",
       "      <td>NaN</td>\n",
       "      <td>Reserve Late Harvest</td>\n",
       "      <td>Vintner's Reserve Wild Child Block</td>\n",
       "    </tr>\n",
       "    <tr>\n",
       "      <td>points</td>\n",
       "      <td>87</td>\n",
       "      <td>87</td>\n",
       "      <td>87</td>\n",
       "      <td>87</td>\n",
       "      <td>87</td>\n",
       "    </tr>\n",
       "    <tr>\n",
       "      <td>price</td>\n",
       "      <td>NaN</td>\n",
       "      <td>15</td>\n",
       "      <td>14</td>\n",
       "      <td>13</td>\n",
       "      <td>65</td>\n",
       "    </tr>\n",
       "    <tr>\n",
       "      <td>province</td>\n",
       "      <td>Sicily &amp; Sardinia</td>\n",
       "      <td>Douro</td>\n",
       "      <td>Oregon</td>\n",
       "      <td>Michigan</td>\n",
       "      <td>Oregon</td>\n",
       "    </tr>\n",
       "    <tr>\n",
       "      <td>region_1</td>\n",
       "      <td>Etna</td>\n",
       "      <td>NaN</td>\n",
       "      <td>Willamette Valley</td>\n",
       "      <td>Lake Michigan Shore</td>\n",
       "      <td>Willamette Valley</td>\n",
       "    </tr>\n",
       "    <tr>\n",
       "      <td>region_2</td>\n",
       "      <td>NaN</td>\n",
       "      <td>NaN</td>\n",
       "      <td>Willamette Valley</td>\n",
       "      <td>NaN</td>\n",
       "      <td>Willamette Valley</td>\n",
       "    </tr>\n",
       "    <tr>\n",
       "      <td>taster_name</td>\n",
       "      <td>Kerin O’Keefe</td>\n",
       "      <td>Roger Voss</td>\n",
       "      <td>Paul Gregutt</td>\n",
       "      <td>Alexander Peartree</td>\n",
       "      <td>Paul Gregutt</td>\n",
       "    </tr>\n",
       "    <tr>\n",
       "      <td>taster_twitter_handle</td>\n",
       "      <td>@kerinokeefe</td>\n",
       "      <td>@vossroger</td>\n",
       "      <td>@paulgwine</td>\n",
       "      <td>NaN</td>\n",
       "      <td>@paulgwine</td>\n",
       "    </tr>\n",
       "    <tr>\n",
       "      <td>title</td>\n",
       "      <td>Nicosia 2013 Vulkà Bianco  (Etna)</td>\n",
       "      <td>Quinta dos Avidagos 2011 Avidagos Red (Douro)</td>\n",
       "      <td>Rainstorm 2013 Pinot Gris (Willamette Valley)</td>\n",
       "      <td>St. Julian 2013 Reserve Late Harvest Riesling ...</td>\n",
       "      <td>Sweet Cheeks 2012 Vintner's Reserve Wild Child...</td>\n",
       "    </tr>\n",
       "    <tr>\n",
       "      <td>variety</td>\n",
       "      <td>White Blend</td>\n",
       "      <td>Portuguese Red</td>\n",
       "      <td>Pinot Gris</td>\n",
       "      <td>Riesling</td>\n",
       "      <td>Pinot Noir</td>\n",
       "    </tr>\n",
       "    <tr>\n",
       "      <td>winery</td>\n",
       "      <td>Nicosia</td>\n",
       "      <td>Quinta dos Avidagos</td>\n",
       "      <td>Rainstorm</td>\n",
       "      <td>St. Julian</td>\n",
       "      <td>Sweet Cheeks</td>\n",
       "    </tr>\n",
       "  </tbody>\n",
       "</table>\n",
       "</div>"
      ],
      "text/plain": [
       "                                                                       0  \\\n",
       "Unnamed: 0                                                             0   \n",
       "country                                                            Italy   \n",
       "description            Aromas include tropical fruit, broom, brimston...   \n",
       "designation                                                 Vulkà Bianco   \n",
       "points                                                                87   \n",
       "price                                                                NaN   \n",
       "province                                               Sicily & Sardinia   \n",
       "region_1                                                            Etna   \n",
       "region_2                                                             NaN   \n",
       "taster_name                                                Kerin O’Keefe   \n",
       "taster_twitter_handle                                       @kerinokeefe   \n",
       "title                                  Nicosia 2013 Vulkà Bianco  (Etna)   \n",
       "variety                                                      White Blend   \n",
       "winery                                                           Nicosia   \n",
       "\n",
       "                                                                       1  \\\n",
       "Unnamed: 0                                                             1   \n",
       "country                                                         Portugal   \n",
       "description            This is ripe and fruity, a wine that is smooth...   \n",
       "designation                                                     Avidagos   \n",
       "points                                                                87   \n",
       "price                                                                 15   \n",
       "province                                                           Douro   \n",
       "region_1                                                             NaN   \n",
       "region_2                                                             NaN   \n",
       "taster_name                                                   Roger Voss   \n",
       "taster_twitter_handle                                         @vossroger   \n",
       "title                      Quinta dos Avidagos 2011 Avidagos Red (Douro)   \n",
       "variety                                                   Portuguese Red   \n",
       "winery                                               Quinta dos Avidagos   \n",
       "\n",
       "                                                                       2  \\\n",
       "Unnamed: 0                                                             2   \n",
       "country                                                               US   \n",
       "description            Tart and snappy, the flavors of lime flesh and...   \n",
       "designation                                                          NaN   \n",
       "points                                                                87   \n",
       "price                                                                 14   \n",
       "province                                                          Oregon   \n",
       "region_1                                               Willamette Valley   \n",
       "region_2                                               Willamette Valley   \n",
       "taster_name                                                 Paul Gregutt   \n",
       "taster_twitter_handle                                        @paulgwine    \n",
       "title                      Rainstorm 2013 Pinot Gris (Willamette Valley)   \n",
       "variety                                                       Pinot Gris   \n",
       "winery                                                         Rainstorm   \n",
       "\n",
       "                                                                       3  \\\n",
       "Unnamed: 0                                                             3   \n",
       "country                                                               US   \n",
       "description            Pineapple rind, lemon pith and orange blossom ...   \n",
       "designation                                         Reserve Late Harvest   \n",
       "points                                                                87   \n",
       "price                                                                 13   \n",
       "province                                                        Michigan   \n",
       "region_1                                             Lake Michigan Shore   \n",
       "region_2                                                             NaN   \n",
       "taster_name                                           Alexander Peartree   \n",
       "taster_twitter_handle                                                NaN   \n",
       "title                  St. Julian 2013 Reserve Late Harvest Riesling ...   \n",
       "variety                                                         Riesling   \n",
       "winery                                                        St. Julian   \n",
       "\n",
       "                                                                       4  \n",
       "Unnamed: 0                                                             4  \n",
       "country                                                               US  \n",
       "description            Much like the regular bottling from 2012, this...  \n",
       "designation                           Vintner's Reserve Wild Child Block  \n",
       "points                                                                87  \n",
       "price                                                                 65  \n",
       "province                                                          Oregon  \n",
       "region_1                                               Willamette Valley  \n",
       "region_2                                               Willamette Valley  \n",
       "taster_name                                                 Paul Gregutt  \n",
       "taster_twitter_handle                                        @paulgwine   \n",
       "title                  Sweet Cheeks 2012 Vintner's Reserve Wild Child...  \n",
       "variety                                                       Pinot Noir  \n",
       "winery                                                      Sweet Cheeks  "
      ]
     },
     "execution_count": 2,
     "metadata": {},
     "output_type": "execute_result"
    }
   ],
   "source": [
    "wine_data.head().transpose()"
   ]
  },
  {
   "cell_type": "markdown",
   "metadata": {
    "_cell_guid": "6947b130-e149-44f0-bb45-f36a88787ce0",
    "_uuid": "3f5284503c71ef3b19997b3f9a30d20b82ca657f",
    "colab_type": "text",
    "id": "F-Sc4NFQE422"
   },
   "source": [
    "## Is A Sample of Wine Scores From the Wine Enthusiast Population\n",
    "Let's assume the WineEnthusiast point scores are interval-scaled normally distributed data. Let's find the population mean and population standard deviation."
   ]
  },
  {
   "cell_type": "code",
   "execution_count": 3,
   "metadata": {
    "_cell_guid": "57c02446-664b-4cf6-a66a-1b3c2395e2dc",
    "_uuid": "134fb568bab52c074dc9e7c10f3d67f5c3184a56",
    "colab": {},
    "colab_type": "code",
    "id": "Cm64a4LnE422",
    "outputId": "cb51bb2c-251f-4508-e481-8a804e85efdd"
   },
   "outputs": [
    {
     "name": "stdout",
     "output_type": "stream",
     "text": [
      "mu:  88.44713820775404 , sigma: 3.0397185090150947\n"
     ]
    }
   ],
   "source": [
    "points = wine_data['points']\n",
    "mu = points.mean()\n",
    "sigma = points.std(ddof=0)\n",
    "print(\"mu: \", mu, \", sigma:\", sigma)"
   ]
  },
  {
   "cell_type": "markdown",
   "metadata": {
    "_cell_guid": "0c4b6d09-6a40-45b5-afc4-171a97caef7d",
    "_uuid": "92d2b57b008367b44cd18fb59db9581b0da201ae",
    "colab_type": "text",
    "id": "CFt6UWTDE426"
   },
   "source": [
    "A sample of N=10 wine point scores yields a sample mean of x_bar = 90.2. Is this sample from the WineEnthusiast population? To test this question we will use what is refered to as a one-sample z-test. First we state the null hypothesis and alternative hypothesis like this;\n",
    "* H<sub>0</sub>: The sample is from the WineEnthusiast population, x_bar = &mu;.\n",
    "* H<sub>A</sub>: The sample is not from the WineEnthusiast population, x_bar != (not equal) &mu;.\n",
    "\n",
    "Then, we specify a significance (alpha) level. Usually, statistical significance is associated with an alpha level of &alpha; = 0.05 or smaller. Next, we use a [z table](http://www.stat.ufl.edu/~athienit/Tables/Ztable.pdf) to look up the critical z value that cooresponds to this &alpha; level. Here we are doing a two-tailed test because we don't care if the sample mean is greater than or less than the population mean. We just are testing to see if the two are equal or notl (see the alternative hypothesis above). Next we calculate the z-statitic for the sample mean compared to the population mean dividing by the standard deviation of the sample mean, which is the standard error &sigma;/sqrt(N). If this z-statistic is less than z-critical then we accept the null hypothesis, otherwise we reject the null and accept the alternative hypothesis. Let's do it."
   ]
  },
  {
   "cell_type": "code",
   "execution_count": 4,
   "metadata": {
    "_cell_guid": "d4bb2a08-fe1d-4653-8d24-019911dcd7bb",
    "_uuid": "025faf9721bde2a423a7dc279bd435b74233f47f",
    "colab": {},
    "colab_type": "code",
    "id": "CW_AjDdyE427",
    "outputId": "b03c2d8e-30c3-4892-b7a3-eb9eee51609c"
   },
   "outputs": [
    {
     "name": "stdout",
     "output_type": "stream",
     "text": [
      "1.8235358539097541\n"
     ]
    }
   ],
   "source": [
    "z_critical = 1.96 # alpha level of 0.05 and two-tailed test\n",
    "x_bar = 90.2\n",
    "N = 10\n",
    "SE = sigma/np.sqrt(N)\n",
    "z_stat = (x_bar - mu)/SE\n",
    "print(z_stat)"
   ]
  },
  {
   "cell_type": "markdown",
   "metadata": {
    "_cell_guid": "5fa95660-43e2-4848-b758-b914919865a9",
    "_uuid": "49395110a1332f8a83c39d928d2b431f79a69b7a",
    "colab_type": "text",
    "id": "PNvkX4V5E42-"
   },
   "source": [
    "Since z_stat is less than z_critical we accept the null hypothesis and reject the althernative. Statistically, we say the sample mean is no different than the population mean and thus the sample is drawn from the population. But what if the sample size was larger? Let's redo the calculation with N=30."
   ]
  },
  {
   "cell_type": "code",
   "execution_count": 5,
   "metadata": {
    "_cell_guid": "94724d01-8468-459d-88c2-f812a053ecca",
    "_uuid": "223f6e27a6c146c4c0bbed8391bdeae95a0b6797",
    "colab": {},
    "colab_type": "code",
    "id": "GHBBnWG-E42-",
    "outputId": "82343f76-5ea7-4736-e3cd-e952dd56d181"
   },
   "outputs": [
    {
     "name": "stdout",
     "output_type": "stream",
     "text": [
      "3.158456748395192\n"
     ]
    }
   ],
   "source": [
    "N = 30;\n",
    "SE = sigma/np.sqrt(N)\n",
    "z_stat = (x_bar - mu)/SE\n",
    "print(z_stat)"
   ]
  },
  {
   "cell_type": "markdown",
   "metadata": {
    "_cell_guid": "c827c5cc-bc66-460e-b920-1320f71f942e",
    "_uuid": "679d215e20614e326f2b57f5d9d616b6d42288e1",
    "colab_type": "text",
    "id": "0m1wQkDlE43B"
   },
   "source": [
    "Now the z-statistic is greater than z-critical and we reject the null hypothesis. Statistically speaking we say that this sample was drawn from some different population than the WineEnthusiast population. Why the difference? As you can see mathematically, increasing the sample size decreases the standard error of the sample mean. This means the distribution of sample means becomes narrower as N gets larger and thus it is less likely to overlap with the population mean everything else being equal."
   ]
  },
  {
   "cell_type": "markdown",
   "metadata": {
    "_cell_guid": "a870ca15-2539-4ee0-a02f-3bbfc58dd2cb",
    "_uuid": "c68730a7d4f4fb2ff3c9b9d230ca6f3678b89e5c",
    "colab_type": "text",
    "id": "ds1nRHW0E43C"
   },
   "source": [
    "## T-Tests\n"
   ]
  },
  {
   "cell_type": "markdown",
   "metadata": {
    "_cell_guid": "d3aaab21-ec70-40e2-963a-02bc45957a73",
    "_uuid": "12dd5dd0c498a151b4d672f224881296ceb75719",
    "colab_type": "text",
    "id": "O32jgRLlE43C"
   },
   "source": [
    "## Framework for Statistical Hypothesis Testing with T-Tests\n",
    "* Do you have one sample that you want to compare to some spcified value? Do a **one-sample t-test**. For example, let's say it is well known that acorns have an average mass of 10 g, and you want to test to see if them mass of acorns from a forest subjected to acid rain are signifcantly different. \n",
    "* Do you have two independent samples that you want to compare to each other? Do an **independent samples t-test**. For example, let's say you take samples of acorn from a forest upwind and downwind from a coal power plant and you want to test to see if the average mass of the acorns from the two samples is the same.\n",
    "* Do you have two dependent samples taken from the same indidividuals or objects? Do a **paired samples t-test**. For example, let's say you measure the average mass of acorns from 50 trees in a forest before and after the local power plant converted from coal to natural gas and want to see if there is a difference in the masses pre-conversion to post-conversion. "
   ]
  },
  {
   "cell_type": "code",
   "execution_count": 6,
   "metadata": {
    "_cell_guid": "4befc072-c910-4ba4-900f-e0fbd7717bc1",
    "_uuid": "2f1ee61b048b9a4d1e686b9479bb52417682e7c8",
    "colab": {},
    "colab_type": "code",
    "id": "ffhaFAfIE43D",
    "outputId": "d6c00522-cd81-43d7-fee1-c42bc2fa7ffc"
   },
   "outputs": [
    {
     "name": "stdout",
     "output_type": "stream",
     "text": [
      "[ 7.2 10.   9.1  8.   9.8  8.1  6.4  4.9 10.4  9.  11.  10.7  8.7  7.6\n",
      "  7.6 12.1  9.2  6.6 10.2  7.3  6.7  8.7  8.7 10.3  9.2  9.   9.8  7.9\n",
      "  7.6  9.7]\n"
     ]
    }
   ],
   "source": [
    "x = np.random.normal(loc=9.2,scale=1.5,size=30).round(1)\n",
    "print(x)"
   ]
  },
  {
   "cell_type": "markdown",
   "metadata": {
    "_cell_guid": "9b9566bb-e9b5-4b48-9b45-0194167d2b2b",
    "_uuid": "6256e72b89e829fc8583163418120a3e50aaa156",
    "colab_type": "text",
    "id": "euOWOovJE43G"
   },
   "source": [
    "## One-sample location test on whether the mean of a population is equal to a value specified in null hypothesis\n",
    "\n",
    "The mass of a sample of N=20 acorns from a forest subjected to acid rain from a coal power plant are m = 8.8, 6.6, 9.5, 11.2, 10.2, 7.4, 8.0, 9.6, 9.9, 9.0, 7.6, 7.4, 10.4, 11.1, 8.5, 10.0, 11.6, 10.7, 10.3, and 7.0 g. Is the average mass of this sample different from the average mass of all acorns of &mu; = 10.0 g?\n",
    "\n",
    "* H<sub>0</sub>: x&#772; - &mu; = 0, that is there is no difference between my sample mean and the value of &mu;.\n",
    "* H<sub>a</sub>: x&#772; - &mu; &ne; 0 (two-sided test)\n",
    "* &alpha; = 0.05\n",
    "\n",
    "[t-table](http://www.sjsu.edu/faculty/gerstman/StatPrimer/t-table.pdf)\n",
    "* degrees of freedom: d<sub>f</sub> = N-1\n",
    "* t-critical for specified alpha level: t<sub>*</sub> = 2.093\n",
    "* t-statistic: t = (x&#772; - &mu;)/(s/sqrt(N)) where s is the sample standard deviation.\n"
   ]
  },
  {
   "cell_type": "code",
   "execution_count": 7,
   "metadata": {},
   "outputs": [
    {
     "data": {
      "text/plain": [
       "2.093024054408263"
      ]
     },
     "execution_count": 7,
     "metadata": {},
     "output_type": "execute_result"
    }
   ],
   "source": [
    "from scipy.stats import t as tval\n",
    "tval.ppf(0.975, 19)"
   ]
  },
  {
   "cell_type": "code",
   "execution_count": 8,
   "metadata": {
    "_cell_guid": "4148d56b-fa5a-4e96-b67c-1e57bccf6417",
    "_uuid": "763af9076a0089015fc6d5d85c17e344b50b5a48",
    "colab": {},
    "colab_type": "code",
    "id": "cmPwcZrXE43G",
    "outputId": "3a006dcc-398f-486f-ff03-c75f8730385a",
    "scrolled": true
   },
   "outputs": [
    {
     "name": "stdout",
     "output_type": "stream",
     "text": [
      "t-statistic:  -2.2491611580763977\n",
      "t =  -2.2491611580763973 , p =  0.03655562279112415\n",
      "Samples are likely drawn from different distributions (reject H0)\n"
     ]
    }
   ],
   "source": [
    "x = [8.8, 6.6, 9.5, 11.2, 10.2, 7.4, 8.0, 9.6, 9.9, 9.0,\n",
    "     7.6, 7.4, 10.4, 11.1, 8.5, 10.0, 11.6, 10.7, 10.3, 7.0]\n",
    "mu = 10\n",
    "t_critical = 2.093\n",
    "x_bar = np.array(x).mean()\n",
    "s = np.array(x).std(ddof=1) # subtract 1 from N to get unbiased estimate of population standard deviation\n",
    "N = len(x)\n",
    "SE = s/np.sqrt(N)\n",
    "t = (x_bar - mu)/SE\n",
    "print(\"t-statistic: \",t)\n",
    "\n",
    "# a one sample t-test that gives you the p-value too can be done with scipy as follows:\n",
    "t, p = stats.ttest_1samp(x, mu)\n",
    "print(\"t = \", t, \", p = \", p)\n",
    "\n",
    "if p >= 0.05:\n",
    "    print('Samples are likely drawn from the same distributions (fail to reject H0)')\n",
    "else:\n",
    "    print('Samples are likely drawn from different distributions (reject H0)')"
   ]
  },
  {
   "cell_type": "code",
   "execution_count": 9,
   "metadata": {},
   "outputs": [
    {
     "data": {
      "text/plain": [
       "20"
      ]
     },
     "execution_count": 9,
     "metadata": {},
     "output_type": "execute_result"
    }
   ],
   "source": [
    "len([8.8, 6.6, 9.5, 11.2, 10.2, 7.4, 8.0, 9.6, 9.9, 9.0,\n",
    "     7.6, 7.4, 10.4, 11.1, 8.5, 10.0, 11.6, 10.7, 10.3, 7.0])"
   ]
  },
  {
   "cell_type": "code",
   "execution_count": 10,
   "metadata": {},
   "outputs": [
    {
     "data": {
      "text/plain": [
       "(1.5111515302471887, 1.5111515302471887)"
      ]
     },
     "execution_count": 10,
     "metadata": {},
     "output_type": "execute_result"
    }
   ],
   "source": [
    "np.array(x).std(ddof=1), np.sqrt(np.sum(abs(x - np.array(x).mean())**2) / (N-1)) "
   ]
  },
  {
   "cell_type": "markdown",
   "metadata": {
    "_cell_guid": "b2894e2f-f2ab-4004-af72-0cbaa592d286",
    "_uuid": "662933c050f5d099e89102fa8779f69d1f3ac8b2",
    "colab_type": "text",
    "id": "72xPNgoXE43J"
   },
   "source": [
    "Note that t is greater in magnitude that t<sub>*</sub> so there is a statistically significant difference at the &alpha; = 0.05 level between the sample mean and the stated population mean of 10 g. The same can be deduced from the p-value which is <0.05 which means null-hypothesis can be rejected with 95% confidence.\n",
    "Note that statistical signficance doesn mean the effect is large. Let's report the 95% confidence intervals too.. "
   ]
  },
  {
   "cell_type": "code",
   "execution_count": 11,
   "metadata": {
    "_cell_guid": "a77658d4-df97-429c-a8cc-f4b0c22a7716",
    "_uuid": "48295f9db014374bc05c3e8055921a11bd4a0504",
    "colab": {},
    "colab_type": "code",
    "id": "oDrGdRR_E43J",
    "outputId": "e74fa0d7-89c4-4364-dfe7-7044efd5277e"
   },
   "outputs": [
    {
     "name": "stdout",
     "output_type": "stream",
     "text": [
      "x_bar = 9.24, 95% CI [8.53, 9.95]\n",
      "CI using scipy:  (8.532759313560822, 9.947240686439175)\n"
     ]
    }
   ],
   "source": [
    "# margin of error\n",
    "err = t_critical*SE\n",
    "x_low = x_bar - err\n",
    "x_high = x_bar + err\n",
    "print(\"x_bar = {}, 95% CI [{}, {}]\".format(x_bar.round(2), x_low.round(2), x_high.round(2)))\n",
    "\n",
    "# you can also get CIs by using the build int t-distribution function like this:\n",
    "print(\"CI using scipy: \",stats.t.interval(0.95, N-1, loc=x_bar, scale=SE))"
   ]
  },
  {
   "cell_type": "code",
   "execution_count": null,
   "metadata": {},
   "outputs": [],
   "source": []
  },
  {
   "cell_type": "markdown",
   "metadata": {
    "_cell_guid": "fd17fd23-4f92-403e-aada-0b61433b22e9",
    "_uuid": "948240552a9daac38010e7ec652d02adbdfab6f7",
    "colab_type": "text",
    "id": "ulAnmKcwE43M"
   },
   "source": [
    "## Independent (unpaired) two-sample location test with a null hypothesis that the means of the two samples are equal (equal variance assumed).\n",
    "The mass of N<sub>1</sub>=20 acorns from oak trees up wind from a coal power plant and N<sub>2</sub>=30 acorns from oak trees down wind from the same coal power plant are mesured. Are the acorns from trees downwind less massive then the ones from up wind? This will require a one-tail (on the low/left side) test. The sample sizes are not equal but we will assume that the population variance of sample 1 and sample 2 are equal. If we don't make the assumption of equal variance then we do a Welch's t-test.\n",
    "\n",
    "* H<sub>0</sub>: x&#772;<sub>1</sub> = x&#772;<sub>2</sub>, or x&#772;<sub>2</sub> - x&#772;<sub>1</sub> = 0, that is , there is no difference between the sample means\n",
    "* H<sub>A</sub>: x&#772;<sub>2</sub> < x&#772;<sub>1</sub>, or x&#772;<sub>2</sub> - x&#772;<sub>1</sub> < 0\n",
    "* &alpha; = 0.05\n",
    "\n",
    "[t-table](http://www.sjsu.edu/faculty/gerstman/StatPrimer/t-table.pdf)\n",
    "* degrees of freedom: d<sub>f1</sub>= N<sub>1</sub>-1 = 19, d<sub>f2</sub>= N<sub>2</sub>-1 = 29, d<sub>f</sub> = d<sub>f1</sub> + d<sub>f2</sub> = N<sub>1</sub> + N<sub>2</sub> - 2 = 48\n",
    "\n",
    "* t-critical for specified alpha level: t<sub>*</sub> = -1.677 (one-tailed, left-side)\n",
    "* t-statistic: t = (x&#772;<sub>2</sub> - x&#772;<sub>1</sub>)/(s<sub>p</sub> sqrt(1/N<sub>1</sub> + 1/N<sub>2</sub>)))\n",
    "* pooled variance: s<sub>p</sub> = sqrt( ((d<sub>1</sub>) s<sub>1</sub><sup>2</sup> + (d<sub>2</sub>) s<sub>2</sub><sup>2</sup>)) / d<sub>f</sub> )\n"
   ]
  },
  {
   "cell_type": "code",
   "execution_count": 12,
   "metadata": {},
   "outputs": [
    {
     "data": {
      "text/plain": [
       "-1.6772241953450402"
      ]
     },
     "execution_count": 12,
     "metadata": {},
     "output_type": "execute_result"
    }
   ],
   "source": [
    "tval.ppf(0.05, 48)"
   ]
  },
  {
   "cell_type": "code",
   "execution_count": 13,
   "metadata": {
    "_cell_guid": "f2b15c98-92e0-4f2b-90e1-beb62cc3ae03",
    "_uuid": "fa96a81f7f2ca3b6cb195dd0e0c087b8d30b348b",
    "colab": {},
    "colab_type": "code",
    "id": "uS5i2yATE43M",
    "outputId": "5032c658-d5c0-44f2-9ad3-936de89d0a43"
   },
   "outputs": [
    {
     "name": "stdout",
     "output_type": "stream",
     "text": [
      "t-statistic -3.5981947686898033\n",
      "t =  -3.5981947686898033 , p_twosided =  0.0007560337478801464 , p_onesided = 0.0003780168739400732\n",
      "Samples are likely drawn from different distributions (reject H0)\n"
     ]
    }
   ],
   "source": [
    "# sample up wind\n",
    "x1 = [10.8, 10.0, 8.2, 9.9, 11.6, 10.1, 11.3, 10.3, 10.7, 9.7, \n",
    "      7.8, 9.6, 9.7, 11.6, 10.3, 9.8, 12.3, 11.0, 10.4, 10.4]\n",
    "\n",
    "# sample down wind\n",
    "x2 = [7.8, 7.5, 9.5, 11.7, 8.1, 8.8, 8.8, 7.7, 9.7, 7.0, \n",
    "      9.0, 9.7, 11.3, 8.7, 8.8, 10.9, 10.3, 9.6, 8.4, 6.6,\n",
    "      7.2, 7.6, 11.5, 6.6, 8.6, 10.5, 8.4, 8.5, 10.2, 9.2]\n",
    "\n",
    "# equal sample size and assume equal population variance\n",
    "t_critical = -1.677\n",
    "N1 = len(x1)\n",
    "N2 = len(x2)\n",
    "d1 = N1-1\n",
    "d2 = N2-1\n",
    "df = d1+d2\n",
    "s1 = np.std(x1,ddof=1) # estimate population sd for sample 1\n",
    "s2 = np.std(x2,ddof=1) # estimate population sd for sample 2\n",
    "x1_bar = np.mean(x1)\n",
    "x2_bar = np.mean(x2)\n",
    "\n",
    "sp = np.sqrt((d1*s1**2 + d2*s2**2)/df) # see explanation in next cell\n",
    "se = sp*np.sqrt(1/N1 + 1/N2)\n",
    "t = (x2_bar - x1_bar)/(se)\n",
    "print(\"t-statistic\", t)\n",
    "\n",
    "# a two-sample independent t-test is done with scipy as follows\n",
    "# NOTE: the p-value given is two-sided so the one-sided p value would be p/2\n",
    "t, p_twosided = stats.ttest_ind(x2, x1, equal_var=True)\n",
    "print(\"t = \",t, \", p_twosided = \", p_twosided, \", p_onesided =\", p_twosided/2)\n",
    "p = p_twosided/2\n",
    "\n",
    "if p >= 0.05:\n",
    "    print('Samples are likely drawn from the same distributions (fail to reject H0)')\n",
    "else:\n",
    "    print('Samples are likely drawn from different distributions (reject H0)')"
   ]
  },
  {
   "cell_type": "markdown",
   "metadata": {},
   "source": [
    "### sp formula from above can be found in below image [I had to skip this today because of time constraints]\n",
    "##### numerator => dof for sample1 * est. population variance for sample1 + dof for sample2 * est. population variance for sample2 [variance = sd squared]\n",
    "##### denominator => degree of freedom = (n1 - 1) + (n2 - 1)\n",
    "<img src=\"https://wikimedia.org/api/rest_v1/media/math/render/svg/451cd1fdd5cb308af96957c3cb28131035b07e97\">"
   ]
  },
  {
   "cell_type": "code",
   "execution_count": 14,
   "metadata": {},
   "outputs": [
    {
     "name": "stdout",
     "output_type": "stream",
     "text": [
      "t-statistic -0.6665710337435846\n",
      "t =  -0.6665710337435845 , p =  0.5098239300755949\n",
      "Samples are likely drawn from the same distributions (fail to reject H0)\n"
     ]
    }
   ],
   "source": [
    "# dog\n",
    "#x1 = [6.6,7.8,4.6,7.8,7,8,9,9,8.8,9.9,8.5,7.7,8.6,8,7,5.8]\n",
    "x1= [6.6, 7.8, 4.6, 7.8, 7, 8, 9, 9, 8.8, 9.9, 8.5, 7.7, 8.6, 8, 7, 5.8, 7.4]\n",
    "\n",
    "# no dog\n",
    "#x2 = [9.8,8.3,7.1,7.2,8.1,8.9,6.7,7.5,7.8,7.6,7.3,6.4,6.8,7,6.4,7.9]\n",
    "x2= [9.8, 8.3, 7.1, 7.2, 8.1, 8.9, 6, 7, 7.5, 7.8, 7.6, 7.3, 6.4, 6.8, 7, 6.4, 7.9]\n",
    "\n",
    "# equal sample size and assume equal population variance\n",
    "t_critical = 2.0369\n",
    "N1 = len(x1)\n",
    "N2 = len(x2)\n",
    "d1 = N1-1\n",
    "d2 = N2-1\n",
    "df = d1+d2\n",
    "s1 = np.std(x1,ddof=1) # estimate population sd for sample 1\n",
    "s2 = np.std(x2,ddof=1) # estimate population sd for sample 2\n",
    "x1_bar = np.mean(x1)\n",
    "x2_bar = np.mean(x2)\n",
    "\n",
    "sp = np.sqrt((d1*s1**2 + d2*s2**2)/df)\n",
    "se = sp*np.sqrt(1/N1 + 1/N2)\n",
    "t = (x2_bar - x1_bar)/(se)\n",
    "print(\"t-statistic\", t)\n",
    "\n",
    "# a two-sample independent t-test is done with scipy as follows\n",
    "t, p = stats.ttest_ind(x2, x1, equal_var=True)\n",
    "print(\"t = \",t, \", p = \", p)\n",
    "\n",
    "if p >= 0.05:\n",
    "    print('Samples are likely drawn from the same distributions (fail to reject H0)')\n",
    "else:\n",
    "    print('Samples are likely drawn from different distributions (reject H0)')"
   ]
  },
  {
   "cell_type": "code",
   "execution_count": 15,
   "metadata": {},
   "outputs": [
    {
     "data": {
      "text/plain": [
       "32"
      ]
     },
     "execution_count": 15,
     "metadata": {},
     "output_type": "execute_result"
    }
   ],
   "source": [
    "# dog\n",
    "#x1 = [6.6,7.8,4.6,7.8,7,8,9,9,8.8,9.9,8.5,7.7,8.6,8,7,5.8]\n",
    "x1= [6.6, 7.8, 4.6, 7.8, 7, 8, 9, 9, 8.8, 9.9, 8.5, 7.7, 8.6, 8, 7, 5.8, 7.4]\n",
    "\n",
    "# no dog\n",
    "#x2 = [9.8,8.3,7.1,7.2,8.1,8.9,6.7,7.5,7.8,7.6,7.3,6.4,6.8,7,6.4,7.9]\n",
    "x2= [9.8, 8.3, 7.1, 7.2, 8.1, 8.9, 6, 7, 7.5, 7.8, 7.6, 7.3, 6.4, 6.8, 7, 6.4, 7.9]\n",
    "\n",
    "N1 = len(x1)\n",
    "N2 = len(x2)\n",
    "d1 = N1-1\n",
    "d2 = N2-1\n",
    "df = d1+d2\n",
    "df"
   ]
  },
  {
   "cell_type": "code",
   "execution_count": 16,
   "metadata": {},
   "outputs": [
    {
     "data": {
      "text/plain": [
       "2.036933343460101"
      ]
     },
     "execution_count": 16,
     "metadata": {},
     "output_type": "execute_result"
    }
   ],
   "source": [
    "tval.ppf(0.975, 32)"
   ]
  },
  {
   "cell_type": "markdown",
   "metadata": {
    "_cell_guid": "9b5d97b5-9c0c-4a45-b333-36d3bdeecdcc",
    "_uuid": "8520e337989f942369ad861e6aebece17394efe3",
    "colab_type": "text",
    "id": "1qEyYs3GE43P"
   },
   "source": [
    "## Paired samples (dependent/repeated measures) t-test with a null hypothesis that the mean difference is a specified constant (usually zero).\n",
    "The average mass of acorns from the same N=30 trees downwind of a power plant is measured before (x<sub>1</sub>) and after (x<sub>2</sub>) the power plant converts from burning coal to buring natural gas. Does the mass of the acorns increase after the conversion from coal to natural gas? This will require a one-tail (on the low/left side) test.\n",
    "\n",
    "* H<sub>0</sub>: x&#772;<sub>2</sub> - x&#772;<sub>1</sub> = 0, that is , there is no difference between the sample means\n",
    "* H<sub>A</sub>: x&#772;<sub>2</sub> - x&#772;<sub>1</sub> > 0\n",
    "* &alpha; = 0.05\n",
    "\n",
    "[t-table](http://www.sjsu.edu/faculty/gerstman/StatPrimer/t-table.pdf)\n",
    "* degrees of freedom: d<sub>f</sub> = N-1 = 29\n",
    "* t-critical for specified alpha level: t<sub>*</sub> = 1.677 (one-tailed, right-side)\n",
    "* t-statistic: t = (x&#772;<sub>diff</sub> - 0)/(s<sub>diff</sub> / sqrt(N))\n",
    "* standard deviation of difference: s<sub>d</sub> = sqrt(s<sub>1</sub><sup>2</sup>/N<sub>1</sub> + s<sub>2</sub><sup>2</sup>/N<sub>2</sub>)\n",
    "* mean difference: x&#772;<sub>diff</sub> = x&#772;<sub>2</sub> - x&#772;<sub>1</sub>"
   ]
  },
  {
   "cell_type": "code",
   "execution_count": 17,
   "metadata": {
    "_cell_guid": "d5690fde-4d81-4f50-93c0-cad681140c71",
    "_uuid": "a256d0a2cc6426f642854fc66a63dd146d37bcf7",
    "colab": {},
    "colab_type": "code",
    "id": "sn_qG1AbE43P",
    "outputId": "e57eccc9-9b57-4bf9-8656-84b21fa38fdb"
   },
   "outputs": [
    {
     "name": "stdout",
     "output_type": "stream",
     "text": [
      "t =  3.9054390813265063\n",
      "t =  3.905439081326491 , p =  0.0002584344912342189\n",
      "Samples are likely drawn from different distributions (reject H0)\n",
      "d =  0.7130323606015934\n"
     ]
    }
   ],
   "source": [
    "# sample before conversion to nat. gas\n",
    "x1 = np.array([10.8, 6.4, 8.3, 7.6, 11.4, 9.9, 10.6, 8.7, 8.1, 10.9,\n",
    "      11.0, 11.8, 7.3, 9.6, 9.3, 9.9, 9.0, 9.5, 10.6, 10.3,\n",
    "      8.8, 12.3, 8.9, 10.5, 11.6, 7.6, 8.9, 10.4, 10.2, 8.8])\n",
    "# sample after conversion to nat. gas\n",
    "x2 = np.array([10.1, 6.9, 8.6, 8.8, 12.1, 11.3, 12.4, 9.3, 9.3, 10.8,\n",
    "      12.4, 11.5, 7.4, 10.0, 11.1, 10.6, 9.4, 9.5, 10.0, 10.0,\n",
    "      9.7, 13.5, 9.6, 11.6, 11.7, 7.9, 8.6, 10.8, 9.5, 9.6])\n",
    "N = len(x2)\n",
    "xbar_diff = np.mean(x2) - np.mean(x1) # could also do np.mean(x2 - x1))\n",
    "sdiff = np.std(x2-x1,ddof=1)\n",
    "t = xbar_diff / (sdiff/np.sqrt(N))\n",
    "print(\"t = \", t)\n",
    "\n",
    "t, p = stats.ttest_rel(x2, x1) # using scipy\n",
    "print(\"t = \", t, \", p = \", p/2) # divide by two because we are doing a one-tail test\n",
    "\n",
    "if p >= 0.05:\n",
    "    print('Samples are likely drawn from the same distributions (fail to reject H0)')\n",
    "else:\n",
    "    print('Samples are likely drawn from different distributions (reject H0)')\n",
    "\n",
    "d = xbar_diff / sdiff\n",
    "print(\"d = \", d) # chohen's d"
   ]
  },
  {
   "cell_type": "code",
   "execution_count": 18,
   "metadata": {},
   "outputs": [
    {
     "data": {
      "text/plain": [
       "1.6991270265334972"
      ]
     },
     "execution_count": 18,
     "metadata": {},
     "output_type": "execute_result"
    }
   ],
   "source": [
    "tval.ppf(0.95, 29)"
   ]
  },
  {
   "cell_type": "markdown",
   "metadata": {
    "_cell_guid": "10cca2fc-bc78-46b0-a4b5-4e3908c90617",
    "_uuid": "86737f8db76a51ca47d2aa570f81af414eaf712f",
    "colab_type": "text",
    "id": "Z3zDyjG8E43T"
   },
   "source": [
    "So, there is a statistically significant difference between the two samples at the &alpha; = 0.05 level. \n",
    "\n"
   ]
  },
  {
   "cell_type": "markdown",
   "metadata": {
    "colab_type": "text",
    "id": "omsQ0D6vFVEs"
   },
   "source": [
    "Reference Link - https://www.kaggle.com/jgroff/unit-3-hypothesis-testing\n"
   ]
  },
  {
   "cell_type": "markdown",
   "metadata": {},
   "source": [
    "# Titanic gender and survival relationship\n",
    "## Chi_square test to check if gender has any effect on survival\n",
    "### Ho = \"Gender has no effect on survival\"   # Stating the Null Hypothesis\n",
    "### Ha = \"Gender has an effect on survival\"   # Stating the Alternate Hypothesis\n",
    "#### 0 = not survived, 1 = survived"
   ]
  },
  {
   "cell_type": "code",
   "execution_count": 19,
   "metadata": {},
   "outputs": [],
   "source": [
    "df = pd.read_csv('titanic.csv')"
   ]
  },
  {
   "cell_type": "code",
   "execution_count": 20,
   "metadata": {},
   "outputs": [
    {
     "data": {
      "text/html": [
       "<div>\n",
       "<style scoped>\n",
       "    .dataframe tbody tr th:only-of-type {\n",
       "        vertical-align: middle;\n",
       "    }\n",
       "\n",
       "    .dataframe tbody tr th {\n",
       "        vertical-align: top;\n",
       "    }\n",
       "\n",
       "    .dataframe thead th {\n",
       "        text-align: right;\n",
       "    }\n",
       "</style>\n",
       "<table border=\"1\" class=\"dataframe\">\n",
       "  <thead>\n",
       "    <tr style=\"text-align: right;\">\n",
       "      <th></th>\n",
       "      <th>pclass</th>\n",
       "      <th>survived</th>\n",
       "      <th>name</th>\n",
       "      <th>sex</th>\n",
       "      <th>age</th>\n",
       "      <th>sibsp</th>\n",
       "      <th>parch</th>\n",
       "      <th>ticket</th>\n",
       "      <th>fare</th>\n",
       "      <th>cabin</th>\n",
       "      <th>embarked</th>\n",
       "      <th>boat</th>\n",
       "      <th>body</th>\n",
       "      <th>home.dest</th>\n",
       "    </tr>\n",
       "  </thead>\n",
       "  <tbody>\n",
       "    <tr>\n",
       "      <td>0</td>\n",
       "      <td>1</td>\n",
       "      <td>1</td>\n",
       "      <td>Allen, Miss. Elisabeth Walton</td>\n",
       "      <td>female</td>\n",
       "      <td>29.00</td>\n",
       "      <td>0</td>\n",
       "      <td>0</td>\n",
       "      <td>24160</td>\n",
       "      <td>211.3375</td>\n",
       "      <td>B5</td>\n",
       "      <td>S</td>\n",
       "      <td>2</td>\n",
       "      <td>NaN</td>\n",
       "      <td>St Louis, MO</td>\n",
       "    </tr>\n",
       "    <tr>\n",
       "      <td>1</td>\n",
       "      <td>1</td>\n",
       "      <td>1</td>\n",
       "      <td>Allison, Master. Hudson Trevor</td>\n",
       "      <td>male</td>\n",
       "      <td>0.92</td>\n",
       "      <td>1</td>\n",
       "      <td>2</td>\n",
       "      <td>113781</td>\n",
       "      <td>151.5500</td>\n",
       "      <td>C22 C26</td>\n",
       "      <td>S</td>\n",
       "      <td>11</td>\n",
       "      <td>NaN</td>\n",
       "      <td>Montreal, PQ / Chesterville, ON</td>\n",
       "    </tr>\n",
       "    <tr>\n",
       "      <td>2</td>\n",
       "      <td>1</td>\n",
       "      <td>0</td>\n",
       "      <td>Allison, Miss. Helen Loraine</td>\n",
       "      <td>female</td>\n",
       "      <td>2.00</td>\n",
       "      <td>1</td>\n",
       "      <td>2</td>\n",
       "      <td>113781</td>\n",
       "      <td>151.5500</td>\n",
       "      <td>C22 C26</td>\n",
       "      <td>S</td>\n",
       "      <td>NaN</td>\n",
       "      <td>NaN</td>\n",
       "      <td>Montreal, PQ / Chesterville, ON</td>\n",
       "    </tr>\n",
       "    <tr>\n",
       "      <td>3</td>\n",
       "      <td>1</td>\n",
       "      <td>0</td>\n",
       "      <td>Allison, Mr. Hudson Joshua Creighton</td>\n",
       "      <td>male</td>\n",
       "      <td>30.00</td>\n",
       "      <td>1</td>\n",
       "      <td>2</td>\n",
       "      <td>113781</td>\n",
       "      <td>151.5500</td>\n",
       "      <td>C22 C26</td>\n",
       "      <td>S</td>\n",
       "      <td>NaN</td>\n",
       "      <td>135.0</td>\n",
       "      <td>Montreal, PQ / Chesterville, ON</td>\n",
       "    </tr>\n",
       "    <tr>\n",
       "      <td>4</td>\n",
       "      <td>1</td>\n",
       "      <td>0</td>\n",
       "      <td>Allison, Mrs. Hudson J C (Bessie Waldo Daniels)</td>\n",
       "      <td>female</td>\n",
       "      <td>25.00</td>\n",
       "      <td>1</td>\n",
       "      <td>2</td>\n",
       "      <td>113781</td>\n",
       "      <td>151.5500</td>\n",
       "      <td>C22 C26</td>\n",
       "      <td>S</td>\n",
       "      <td>NaN</td>\n",
       "      <td>NaN</td>\n",
       "      <td>Montreal, PQ / Chesterville, ON</td>\n",
       "    </tr>\n",
       "  </tbody>\n",
       "</table>\n",
       "</div>"
      ],
      "text/plain": [
       "   pclass  survived                                             name     sex  \\\n",
       "0       1         1                    Allen, Miss. Elisabeth Walton  female   \n",
       "1       1         1                   Allison, Master. Hudson Trevor    male   \n",
       "2       1         0                     Allison, Miss. Helen Loraine  female   \n",
       "3       1         0             Allison, Mr. Hudson Joshua Creighton    male   \n",
       "4       1         0  Allison, Mrs. Hudson J C (Bessie Waldo Daniels)  female   \n",
       "\n",
       "     age  sibsp  parch  ticket      fare    cabin embarked boat   body  \\\n",
       "0  29.00      0      0   24160  211.3375       B5        S    2    NaN   \n",
       "1   0.92      1      2  113781  151.5500  C22 C26        S   11    NaN   \n",
       "2   2.00      1      2  113781  151.5500  C22 C26        S  NaN    NaN   \n",
       "3  30.00      1      2  113781  151.5500  C22 C26        S  NaN  135.0   \n",
       "4  25.00      1      2  113781  151.5500  C22 C26        S  NaN    NaN   \n",
       "\n",
       "                         home.dest  \n",
       "0                     St Louis, MO  \n",
       "1  Montreal, PQ / Chesterville, ON  \n",
       "2  Montreal, PQ / Chesterville, ON  \n",
       "3  Montreal, PQ / Chesterville, ON  \n",
       "4  Montreal, PQ / Chesterville, ON  "
      ]
     },
     "execution_count": 20,
     "metadata": {},
     "output_type": "execute_result"
    }
   ],
   "source": [
    "df.head()"
   ]
  },
  {
   "cell_type": "code",
   "execution_count": 21,
   "metadata": {},
   "outputs": [
    {
     "name": "stdout",
     "output_type": "stream",
     "text": [
      "363.6179084388249 4.589924936952945e-81 1 [[288.00152788 177.99847212]\n",
      " [520.99847212 322.00152788]]\n",
      "p value is 4.589924936952945e-81 < 0.05. Gender is likely to have had an effect on survival (reject H0)\n"
     ]
    },
    {
     "data": {
      "text/html": [
       "<div>\n",
       "<style scoped>\n",
       "    .dataframe tbody tr th:only-of-type {\n",
       "        vertical-align: middle;\n",
       "    }\n",
       "\n",
       "    .dataframe tbody tr th {\n",
       "        vertical-align: top;\n",
       "    }\n",
       "\n",
       "    .dataframe thead th {\n",
       "        text-align: right;\n",
       "    }\n",
       "</style>\n",
       "<table border=\"1\" class=\"dataframe\">\n",
       "  <thead>\n",
       "    <tr style=\"text-align: right;\">\n",
       "      <th>survived</th>\n",
       "      <th>0</th>\n",
       "      <th>1</th>\n",
       "    </tr>\n",
       "    <tr>\n",
       "      <th>sex</th>\n",
       "      <th></th>\n",
       "      <th></th>\n",
       "    </tr>\n",
       "  </thead>\n",
       "  <tbody>\n",
       "    <tr>\n",
       "      <td>female</td>\n",
       "      <td>127</td>\n",
       "      <td>339</td>\n",
       "    </tr>\n",
       "    <tr>\n",
       "      <td>male</td>\n",
       "      <td>682</td>\n",
       "      <td>161</td>\n",
       "    </tr>\n",
       "  </tbody>\n",
       "</table>\n",
       "</div>"
      ],
      "text/plain": [
       "survived    0    1\n",
       "sex               \n",
       "female    127  339\n",
       "male      682  161"
      ]
     },
     "execution_count": 21,
     "metadata": {},
     "output_type": "execute_result"
    }
   ],
   "source": [
    "crosstab = pd.crosstab(df['sex'], df['survived'])  # Contingency table of sex and smoker attributes\n",
    "\n",
    "chi, p_value, dof, expected =  stats.chi2_contingency(crosstab)\n",
    "\n",
    "print(chi, p_value, dof, expected)\n",
    "\n",
    "if p >= 0.05: # Setting our significance level at 5%\n",
    "    print('p value is {} >= 0.05. Gender is likely to not have had an effect on survival (fail to reject H0)'.format(p_value))\n",
    "else:\n",
    "    print('p value is {} < 0.05. Gender is likely to have had an effect on survival (reject H0)'.format(p_value))\n",
    "    \n",
    "crosstab"
   ]
  },
  {
   "cell_type": "code",
   "execution_count": 22,
   "metadata": {},
   "outputs": [
    {
     "name": "stdout",
     "output_type": "stream",
     "text": [
      "total:  1309 n_survived:  500 n_notsurvived:  809 n_female:  466 n_male:  843\n",
      "E11:  288.0015278838808 E12:  177.99847211611916 E21:  520.9984721161192 E22:  322.0015278838808\n",
      "O11:  127 O12:  339 O21:  682 O22:  161\n",
      "365.88694781112054\n"
     ]
    },
    {
     "data": {
      "text/plain": [
       "1"
      ]
     },
     "execution_count": 22,
     "metadata": {},
     "output_type": "execute_result"
    }
   ],
   "source": [
    "total = crosstab.sum().sum()\n",
    "n_female = crosstab.transpose().sum()['female']\n",
    "n_male = crosstab.transpose().sum()['male']\n",
    "n_notsurvived = crosstab.sum()[0]\n",
    "n_survived = crosstab.sum()[1]\n",
    "print('total: ', total, 'n_survived: ', n_survived, 'n_notsurvived: ', n_notsurvived, 'n_female: ', n_female, 'n_male: ', n_male)\n",
    "\n",
    "# if Ho is true, then no relationship\n",
    "\n",
    "E11 = n_female * (n_notsurvived / total) # Expected value of female not survived\n",
    "E12 = n_female * (n_survived / total) # Expected value of female survived\n",
    "E21 = n_male * (n_notsurvived / total) # Expected value of male not survived\n",
    "E22 = n_male * (n_survived / total) # Expected value of male survived\n",
    "print('E11: ', E11, 'E12: ', E12, 'E21: ', E21, 'E22: ', E22)\n",
    "\n",
    "O11 = crosstab.loc['female'][0] # Observed value of female not survived\n",
    "O12 = crosstab.loc['female'][1] # Observed value of female survived\n",
    "O21 = crosstab.loc['male'][0] # Observed value of male not survived\n",
    "O22 = crosstab.loc['male'][1] # Observed value of male survived\n",
    "print('O11: ', O11, 'O12: ', O12, 'O21: ', O21, 'O22: ', O22)\n",
    "\n",
    "# chi square = summmation of (observed - expected)^2 / expected\n",
    "chi_square = np.square(O11 - E11) / E11 + \\\n",
    "             np.square(O12 - E12) / E12 + \\\n",
    "             np.square(O21 - E21) / E21 + \\\n",
    "             np.square(O22 - E22) / E22\n",
    "print(chi_square)\n",
    "\n",
    "dof = (2-1)*(2-1)\n",
    "dof"
   ]
  },
  {
   "cell_type": "code",
   "execution_count": 23,
   "metadata": {},
   "outputs": [
    {
     "data": {
      "text/plain": [
       "3.841458820694124"
      ]
     },
     "execution_count": 23,
     "metadata": {},
     "output_type": "execute_result"
    }
   ],
   "source": [
    "from scipy.stats import chi2\n",
    "chi2.ppf(0.95, 1)"
   ]
  }
 ],
 "metadata": {
  "colab": {
   "collapsed_sections": [],
   "name": "Hypothesis_Testing_Examples_Z-test_t-tests.ipynb",
   "provenance": [],
   "version": "0.3.2"
  },
  "kernelspec": {
   "display_name": "Python 3",
   "language": "python",
   "name": "python3"
  },
  "language_info": {
   "codemirror_mode": {
    "name": "ipython",
    "version": 3
   },
   "file_extension": ".py",
   "mimetype": "text/x-python",
   "name": "python",
   "nbconvert_exporter": "python",
   "pygments_lexer": "ipython3",
   "version": "3.7.4"
  }
 },
 "nbformat": 4,
 "nbformat_minor": 4
}
