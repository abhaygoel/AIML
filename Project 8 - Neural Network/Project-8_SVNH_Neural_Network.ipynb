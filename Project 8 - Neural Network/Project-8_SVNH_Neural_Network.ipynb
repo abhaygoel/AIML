{
 "cells": [
  {
   "cell_type": "code",
   "execution_count": 135,
   "metadata": {},
   "outputs": [],
   "source": [
    "import tensorflow"
   ]
  },
  {
   "cell_type": "code",
   "execution_count": 136,
   "metadata": {},
   "outputs": [],
   "source": [
    "import h5py\n",
    "import numpy as np"
   ]
  },
  {
   "cell_type": "code",
   "execution_count": 137,
   "metadata": {},
   "outputs": [],
   "source": [
    "h5f = h5py.File('SVHN_single_grey1.h5','r')\n"
   ]
  },
  {
   "cell_type": "code",
   "execution_count": 138,
   "metadata": {},
   "outputs": [
    {
     "data": {
      "text/plain": [
       "['X_test', 'X_train', 'X_val', 'y_test', 'y_train', 'y_val']"
      ]
     },
     "execution_count": 138,
     "metadata": {},
     "output_type": "execute_result"
    }
   ],
   "source": [
    "list(h5f.keys())"
   ]
  },
  {
   "cell_type": "code",
   "execution_count": 139,
   "metadata": {},
   "outputs": [
    {
     "name": "stdout",
     "output_type": "stream",
     "text": [
      "(42000, 32, 32)\n",
      "float32\n",
      "[[ 33.0704  30.2601  26.852  ...  71.4471  58.2204  42.9939]\n",
      " [ 25.2283  25.5533  29.9765 ... 113.0209 103.3639  84.2949]\n",
      " [ 26.2775  22.6137  40.4763 ... 113.3028 121.775  115.4228]\n",
      " ...\n",
      " [ 28.5502  36.212   45.0801 ...  24.1359  25.0927  26.0603]\n",
      " [ 38.4352  26.4733  23.2717 ...  28.1094  29.4683  30.0661]\n",
      " [ 50.2984  26.0773  24.0389 ...  49.6682  50.853   53.0377]]\n"
     ]
    }
   ],
   "source": [
    "X_train = h5f['X_train'][:]\n",
    "print(X_train.shape) \n",
    "print(X_train.dtype) \n",
    "print(X_train[0])"
   ]
  },
  {
   "cell_type": "code",
   "execution_count": 140,
   "metadata": {},
   "outputs": [
    {
     "name": "stdout",
     "output_type": "stream",
     "text": [
      "(42000,)\n",
      "uint8\n",
      "[2 6 7 4 4]\n"
     ]
    }
   ],
   "source": [
    "y_train=h5f['y_train'][:]\n",
    "print(y_train.shape)\n",
    "print(y_train.dtype)\n",
    "print(y_train[0:5])"
   ]
  },
  {
   "cell_type": "code",
   "execution_count": 141,
   "metadata": {},
   "outputs": [
    {
     "data": {
      "text/plain": [
       "(18000, 32, 32)"
      ]
     },
     "execution_count": 141,
     "metadata": {},
     "output_type": "execute_result"
    }
   ],
   "source": [
    "X_test = h5f['X_test'][:]\n",
    "X_test.shape"
   ]
  },
  {
   "cell_type": "code",
   "execution_count": 142,
   "metadata": {},
   "outputs": [
    {
     "data": {
      "text/plain": [
       "(18000,)"
      ]
     },
     "execution_count": 142,
     "metadata": {},
     "output_type": "execute_result"
    }
   ],
   "source": [
    "y_test = h5f['y_test'][:]\n",
    "y_test.shape"
   ]
  },
  {
   "cell_type": "markdown",
   "metadata": {},
   "source": [
    "#### Dataset attributes :\n",
    "##### X_Train - 42,000 images of 32x32 pixels\n",
    "##### Y_Train - 42,000 labels classifying each image\n",
    "##### X_Test  - 18,000 images of 32x32 pixels to train\n",
    "##### Y_Test  - 18,000 labels"
   ]
  },
  {
   "cell_type": "code",
   "execution_count": 143,
   "metadata": {},
   "outputs": [
    {
     "name": "stdout",
     "output_type": "stream",
     "text": [
      "Label: 7\n"
     ]
    },
    {
     "data": {
      "text/plain": [
       "<matplotlib.image.AxesImage at 0x1488fc190>"
      ]
     },
     "execution_count": 143,
     "metadata": {},
     "output_type": "execute_result"
    },
    {
     "data": {
      "image/png": "[encoded data removed]",
      "text/plain": [
       "<Figure size 432x288 with 1 Axes>"
      ]
     },
     "metadata": {
      "needs_background": "light"
     },
     "output_type": "display_data"
    }
   ],
   "source": [
    "import matplotlib.pyplot as plt\n",
    "%matplotlib inline\n",
    "print(\"Label: {}\".format(y_train[8000]))\n",
    "plt.imshow(X_train[8000], cmap='gray')"
   ]
  },
  {
   "cell_type": "markdown",
   "metadata": {},
   "source": [
    "### One-hot encode the class vector\n",
    "- convert class vectors (integers) to binary class matrix\n",
    "- convert y_train and y_test\n",
    "- number of classes: 10\n",
    "- we are doing this to use categorical_crossentropy as loss"
   ]
  },
  {
   "cell_type": "code",
   "execution_count": 144,
   "metadata": {},
   "outputs": [
    {
     "name": "stdout",
     "output_type": "stream",
     "text": [
      "Value before encoding: 2\n",
      "Shape of y_train: (42000, 10)\n",
      "One hot encoded value of y_train: [0. 0. 1. 0. 0. 0. 0. 0. 0. 0.]\n"
     ]
    }
   ],
   "source": [
    "from tensorflow.keras.utils import to_categorical\n",
    "\n",
    "print(\"Value before encoding:\", y_train[0])\n",
    "\n",
    "y_train = to_categorical(y_train, num_classes=10)\n",
    "y_test = to_categorical(y_test, num_classes=10)\n",
    "\n",
    "print(\"Shape of y_train:\", y_train.shape)\n",
    "print(\"One hot encoded value of y_train:\", y_train[0])"
   ]
  },
  {
   "cell_type": "markdown",
   "metadata": {},
   "source": [
    "### Define the model\n",
    "- The Sequential model is a linear stack of layers.\n",
    "- The model needs to know what input shape it should expect. For this reason, the first layer in a Sequential model (and only the first, because following layers can do automatic shape inference) needs to receive information about its input shape.\n",
    "- You can also simply add layers via the .add() method"
   ]
  },
  {
   "cell_type": "code",
   "execution_count": 179,
   "metadata": {},
   "outputs": [],
   "source": [
    "# Store all models in list to display comparison\n",
    "models = []\n",
    "histories=[]"
   ]
  },
  {
   "cell_type": "code",
   "execution_count": 180,
   "metadata": {},
   "outputs": [],
   "source": [
    "# Initialize Sequential model\n",
    "model1 = tensorflow.keras.models.Sequential()\n",
    "\n",
    "# Reshape data from 2D to 1D -> 32x32 to 1024\n",
    "model1.add(tensorflow.keras.layers.Reshape((1024,),input_shape=(32,32,)))\n",
    "\n",
    "# Normalize the data\n",
    "model1.add(tensorflow.keras.layers.BatchNormalization())"
   ]
  },
  {
   "cell_type": "markdown",
   "metadata": {},
   "source": [
    "#### Apply ReLU and Dropout"
   ]
  },
  {
   "cell_type": "code",
   "execution_count": 181,
   "metadata": {},
   "outputs": [],
   "source": [
    "#### Apply ReLU and Dropout\n",
    "# Hidden layers\n",
    "model1.add(tensorflow.keras.layers.Dense(200, activation='relu', name='Layer_1'))\n",
    "model1.add(tensorflow.keras.layers.Dense(100, activation='relu', name='Layer_2'))\n",
    "# Dropout layer\n",
    "model1.add(tensorflow.keras.layers.Dropout(0.5))\n",
    "\n",
    "# Hidden layers\n",
    "model1.add(tensorflow.keras.layers.Dense(60, activation='relu', name='Layer_3'))\n",
    "model1.add(tensorflow.keras.layers.Dense(30, activation='relu', name='Layer_4'))\n",
    "\n",
    "# Dropout layer\n",
    "model1.add(tensorflow.keras.layers.Dropout(0.3))\n",
    "\n",
    "#Output layer\n",
    "model1.add(tensorflow.keras.layers.Dense(10, activation='softmax', name='Output'))"
   ]
  },
  {
   "cell_type": "markdown",
   "metadata": {},
   "source": [
    "### Compile the model\n",
    "- Here we configure the model for training\n",
    "- We will specify an optimizer, loss function and a metrics\n",
    "- You can read more about it here https://keras.io/models/sequential/"
   ]
  },
  {
   "cell_type": "code",
   "execution_count": 182,
   "metadata": {},
   "outputs": [
    {
     "name": "stdout",
     "output_type": "stream",
     "text": [
      "Model: \"sequential_34\"\n",
      "_________________________________________________________________\n",
      "Layer (type)                 Output Shape              Param #   \n",
      "=================================================================\n",
      "reshape_33 (Reshape)         (None, 1024)              0         \n",
      "_________________________________________________________________\n",
      "batch_normalization_33 (Batc (None, 1024)              4096      \n",
      "_________________________________________________________________\n",
      "Layer_1 (Dense)              (None, 200)               205000    \n",
      "_________________________________________________________________\n",
      "Layer_2 (Dense)              (None, 100)               20100     \n",
      "_________________________________________________________________\n",
      "dropout_66 (Dropout)         (None, 100)               0         \n",
      "_________________________________________________________________\n",
      "Layer_3 (Dense)              (None, 60)                6060      \n",
      "_________________________________________________________________\n",
      "Layer_4 (Dense)              (None, 30)                1830      \n",
      "_________________________________________________________________\n",
      "dropout_67 (Dropout)         (None, 30)                0         \n",
      "_________________________________________________________________\n",
      "Output (Dense)               (None, 10)                310       \n",
      "=================================================================\n",
      "Total params: 237,396\n",
      "Trainable params: 235,348\n",
      "Non-trainable params: 2,048\n",
      "_________________________________________________________________\n"
     ]
    }
   ],
   "source": [
    "model1.compile(optimizer='adam', loss='categorical_crossentropy', metrics=['accuracy'])\n",
    "model1.summary()"
   ]
  },
  {
   "cell_type": "markdown",
   "metadata": {},
   "source": [
    "#### We will split the training set 80:20 for train:test"
   ]
  },
  {
   "cell_type": "code",
   "execution_count": 183,
   "metadata": {},
   "outputs": [
    {
     "name": "stdout",
     "output_type": "stream",
     "text": [
      "Epoch 1/50\n",
      "1050/1050 [==============================] - 5s 5ms/step - loss: 2.2921 - accuracy: 0.1251 - val_loss: 2.1359 - val_accuracy: 0.2124\n",
      "Epoch 2/50\n",
      "1050/1050 [==============================] - 5s 5ms/step - loss: 2.1065 - accuracy: 0.2225 - val_loss: 1.9057 - val_accuracy: 0.3200\n",
      "Epoch 3/50\n",
      "1050/1050 [==============================] - 5s 5ms/step - loss: 1.9401 - accuracy: 0.3031 - val_loss: 1.6560 - val_accuracy: 0.4301\n",
      "Epoch 4/50\n",
      "1050/1050 [==============================] - 5s 5ms/step - loss: 1.7511 - accuracy: 0.3821 - val_loss: 1.4373 - val_accuracy: 0.5367\n",
      "Epoch 5/50\n",
      "1050/1050 [==============================] - 6s 6ms/step - loss: 1.5687 - accuracy: 0.4550 - val_loss: 1.1907 - val_accuracy: 0.6417\n",
      "Epoch 6/50\n",
      "1050/1050 [==============================] - 5s 5ms/step - loss: 1.4428 - accuracy: 0.5094 - val_loss: 1.0889 - val_accuracy: 0.6548\n",
      "Epoch 7/50\n",
      "1050/1050 [==============================] - 5s 5ms/step - loss: 1.3498 - accuracy: 0.5454 - val_loss: 1.0043 - val_accuracy: 0.6938\n",
      "Epoch 8/50\n",
      "1050/1050 [==============================] - 5s 5ms/step - loss: 1.2465 - accuracy: 0.5895 - val_loss: 0.9619 - val_accuracy: 0.7167\n",
      "Epoch 9/50\n",
      "1050/1050 [==============================] - 5s 5ms/step - loss: 1.1782 - accuracy: 0.6191 - val_loss: 0.8610 - val_accuracy: 0.7463\n",
      "Epoch 10/50\n",
      "1050/1050 [==============================] - 5s 5ms/step - loss: 1.1137 - accuracy: 0.6457 - val_loss: 0.8194 - val_accuracy: 0.7552\n",
      "Epoch 11/50\n",
      "1050/1050 [==============================] - 5s 5ms/step - loss: 1.0644 - accuracy: 0.6677 - val_loss: 0.7706 - val_accuracy: 0.7762\n",
      "Epoch 12/50\n",
      "1050/1050 [==============================] - 5s 5ms/step - loss: 1.0103 - accuracy: 0.6879 - val_loss: 0.7455 - val_accuracy: 0.7844\n",
      "Epoch 13/50\n",
      "1050/1050 [==============================] - 5s 5ms/step - loss: 0.9792 - accuracy: 0.7035 - val_loss: 0.7260 - val_accuracy: 0.7881\n",
      "Epoch 14/50\n",
      "1050/1050 [==============================] - 5s 5ms/step - loss: 0.9483 - accuracy: 0.7135 - val_loss: 0.7056 - val_accuracy: 0.7961\n",
      "Epoch 15/50\n",
      "1050/1050 [==============================] - 5s 5ms/step - loss: 0.9113 - accuracy: 0.7236 - val_loss: 0.7101 - val_accuracy: 0.7930\n",
      "Epoch 16/50\n",
      "1050/1050 [==============================] - 5s 5ms/step - loss: 0.8975 - accuracy: 0.7345 - val_loss: 0.6871 - val_accuracy: 0.7988\n",
      "Epoch 17/50\n",
      "1050/1050 [==============================] - 5s 5ms/step - loss: 0.8784 - accuracy: 0.7398 - val_loss: 0.6902 - val_accuracy: 0.7976\n",
      "Epoch 18/50\n",
      "1050/1050 [==============================] - 5s 5ms/step - loss: 0.8496 - accuracy: 0.7483 - val_loss: 0.6418 - val_accuracy: 0.8137\n",
      "Epoch 19/50\n",
      "1050/1050 [==============================] - 5s 5ms/step - loss: 0.8306 - accuracy: 0.7531 - val_loss: 0.6645 - val_accuracy: 0.8070\n",
      "Epoch 20/50\n",
      "1050/1050 [==============================] - 5s 5ms/step - loss: 0.8092 - accuracy: 0.7606 - val_loss: 0.6359 - val_accuracy: 0.8168\n",
      "Epoch 21/50\n",
      "1050/1050 [==============================] - 5s 5ms/step - loss: 0.8008 - accuracy: 0.7667 - val_loss: 0.6161 - val_accuracy: 0.8201\n",
      "Epoch 22/50\n",
      "1050/1050 [==============================] - 6s 5ms/step - loss: 0.7800 - accuracy: 0.7704 - val_loss: 0.6447 - val_accuracy: 0.8095\n",
      "Epoch 23/50\n",
      "1050/1050 [==============================] - 5s 5ms/step - loss: 0.7777 - accuracy: 0.7710 - val_loss: 0.6105 - val_accuracy: 0.8232\n",
      "Epoch 24/50\n",
      "1050/1050 [==============================] - 5s 5ms/step - loss: 0.7611 - accuracy: 0.7785 - val_loss: 0.5988 - val_accuracy: 0.8285\n",
      "Epoch 25/50\n",
      "1050/1050 [==============================] - 5s 5ms/step - loss: 0.7589 - accuracy: 0.7794 - val_loss: 0.5964 - val_accuracy: 0.8340\n",
      "Epoch 26/50\n",
      "1050/1050 [==============================] - 5s 5ms/step - loss: 0.7376 - accuracy: 0.7812 - val_loss: 0.6006 - val_accuracy: 0.8230\n",
      "Epoch 27/50\n",
      "1050/1050 [==============================] - 5s 5ms/step - loss: 0.7288 - accuracy: 0.7829 - val_loss: 0.5781 - val_accuracy: 0.8365\n",
      "Epoch 28/50\n",
      "1050/1050 [==============================] - 5s 5ms/step - loss: 0.7156 - accuracy: 0.7897 - val_loss: 0.6102 - val_accuracy: 0.8268\n",
      "Epoch 29/50\n",
      "1050/1050 [==============================] - 7s 6ms/step - loss: 0.7149 - accuracy: 0.7903 - val_loss: 0.5785 - val_accuracy: 0.8324\n",
      "Epoch 30/50\n",
      "1050/1050 [==============================] - 7s 6ms/step - loss: 0.7131 - accuracy: 0.7920 - val_loss: 0.5857 - val_accuracy: 0.8310\n",
      "Epoch 31/50\n",
      "1050/1050 [==============================] - 6s 6ms/step - loss: 0.7007 - accuracy: 0.7958 - val_loss: 0.5604 - val_accuracy: 0.8405\n",
      "Epoch 32/50\n",
      "1050/1050 [==============================] - 6s 6ms/step - loss: 0.6883 - accuracy: 0.7968 - val_loss: 0.5747 - val_accuracy: 0.8335\n",
      "Epoch 33/50\n",
      "1050/1050 [==============================] - 8s 8ms/step - loss: 0.6825 - accuracy: 0.7969 - val_loss: 0.5934 - val_accuracy: 0.8258\n",
      "Epoch 34/50\n",
      "1050/1050 [==============================] - 8s 7ms/step - loss: 0.6737 - accuracy: 0.8039 - val_loss: 0.5738 - val_accuracy: 0.8356\n",
      "Epoch 35/50\n",
      "1050/1050 [==============================] - 7s 7ms/step - loss: 0.6712 - accuracy: 0.8027 - val_loss: 0.5519 - val_accuracy: 0.8413\n",
      "Epoch 36/50\n",
      "1050/1050 [==============================] - 7s 7ms/step - loss: 0.6724 - accuracy: 0.8029 - val_loss: 0.5599 - val_accuracy: 0.8418\n",
      "Epoch 37/50\n",
      "1050/1050 [==============================] - 7s 7ms/step - loss: 0.6522 - accuracy: 0.8090 - val_loss: 0.5665 - val_accuracy: 0.8323\n",
      "Epoch 38/50\n",
      "1050/1050 [==============================] - 8s 8ms/step - loss: 0.6454 - accuracy: 0.8110 - val_loss: 0.5617 - val_accuracy: 0.8426\n",
      "Epoch 39/50\n",
      "1050/1050 [==============================] - 7s 7ms/step - loss: 0.6582 - accuracy: 0.8073 - val_loss: 0.5571 - val_accuracy: 0.8380\n",
      "Epoch 40/50\n",
      "1050/1050 [==============================] - 7s 7ms/step - loss: 0.6330 - accuracy: 0.8134 - val_loss: 0.5288 - val_accuracy: 0.8514\n",
      "Epoch 41/50\n",
      "1050/1050 [==============================] - 5s 5ms/step - loss: 0.6421 - accuracy: 0.8112 - val_loss: 0.5328 - val_accuracy: 0.8444\n",
      "Epoch 42/50\n",
      "1050/1050 [==============================] - 6s 6ms/step - loss: 0.6400 - accuracy: 0.8120 - val_loss: 0.5277 - val_accuracy: 0.8487\n",
      "Epoch 43/50\n",
      "1050/1050 [==============================] - 6s 5ms/step - loss: 0.6269 - accuracy: 0.8179 - val_loss: 0.5497 - val_accuracy: 0.8442\n",
      "Epoch 44/50\n",
      "1050/1050 [==============================] - 6s 5ms/step - loss: 0.6332 - accuracy: 0.8142 - val_loss: 0.5810 - val_accuracy: 0.8310\n",
      "Epoch 45/50\n",
      "1050/1050 [==============================] - 5s 5ms/step - loss: 0.6226 - accuracy: 0.8190 - val_loss: 0.5391 - val_accuracy: 0.8476\n",
      "Epoch 46/50\n",
      "1050/1050 [==============================] - 5s 5ms/step - loss: 0.6144 - accuracy: 0.8199 - val_loss: 0.5254 - val_accuracy: 0.8471\n",
      "Epoch 47/50\n",
      "1050/1050 [==============================] - 5s 5ms/step - loss: 0.6129 - accuracy: 0.8196 - val_loss: 0.5513 - val_accuracy: 0.8408\n",
      "Epoch 48/50\n",
      "1050/1050 [==============================] - 5s 5ms/step - loss: 0.6158 - accuracy: 0.8218 - val_loss: 0.5437 - val_accuracy: 0.8427\n",
      "Epoch 49/50\n",
      "1050/1050 [==============================] - 6s 5ms/step - loss: 0.6144 - accuracy: 0.8210 - val_loss: 0.5529 - val_accuracy: 0.8404\n",
      "Epoch 50/50\n",
      "1050/1050 [==============================] - 5s 5ms/step - loss: 0.6045 - accuracy: 0.8247 - val_loss: 0.5245 - val_accuracy: 0.8498\n"
     ]
    }
   ],
   "source": [
    "history1 = model1.fit(X_train, y_train, validation_split=0.2, shuffle=True, epochs=50, batch_size = 32)"
   ]
  },
  {
   "cell_type": "code",
   "execution_count": 184,
   "metadata": {},
   "outputs": [],
   "source": [
    "models.append((\"Base Model\",model1))"
   ]
  },
  {
   "cell_type": "code",
   "execution_count": 195,
   "metadata": {},
   "outputs": [
    {
     "data": {
      "image/png": "[encoded data removed]",
      "text/plain": [
       "<Figure size 432x288 with 1 Axes>"
      ]
     },
     "metadata": {
      "needs_background": "light"
     },
     "output_type": "display_data"
    },
    {
     "data": {
      "image/png": "[encoded data removed]",
      "text/plain": [
       "<Figure size 432x288 with 1 Axes>"
      ]
     },
     "metadata": {
      "needs_background": "light"
     },
     "output_type": "display_data"
    }
   ],
   "source": [
    "plt.plot(history1.history['accuracy'])\n",
    "plt.plot(history1.history['val_accuracy'])\n",
    "plt.title('model accuracy')\n",
    "plt.ylabel('accuracy')\n",
    "plt.xlabel('epoch')\n",
    "plt.legend(['train', 'val'], loc='upper left')\n",
    "plt.show()\n",
    "\n",
    "plt.plot(history1.history['loss'])\n",
    "plt.plot(history1.history['val_loss'])\n",
    "plt.title('model loss')\n",
    "plt.ylabel('loss')\n",
    "plt.xlabel('epoch')\n",
    "plt.legend(['train', 'val'], loc='upper left')\n",
    "plt.show()"
   ]
  },
  {
   "cell_type": "code",
   "execution_count": 199,
   "metadata": {},
   "outputs": [],
   "source": [
    "model2 = tensorflow.keras.models.Sequential()\n",
    "\n",
    "# Reshape data from 2D to 1D -> 32x32 to 1024\n",
    "model2.add(tensorflow.keras.layers.Reshape((1024,),input_shape=(32,32,)))\n",
    "\n",
    "# Normalize the data\n",
    "model2.add(tensorflow.keras.layers.BatchNormalization())"
   ]
  },
  {
   "cell_type": "code",
   "execution_count": 200,
   "metadata": {},
   "outputs": [],
   "source": [
    "# Hidden layers\n",
    "model2.add(tensorflow.keras.layers.Dense(200, activation='relu', name='Layer_1'))\n",
    "model2.add(tensorflow.keras.layers.Dense(100, activation='relu', name='Layer_2'))\n",
    "model2.add(tensorflow.keras.layers.Dense(60, activation='relu', name='Layer_3'))\n",
    "\n",
    "# Dropout layer\n",
    "model2.add(tensorflow.keras.layers.Dropout(0.5))\n",
    "\n",
    "# Hidden layers\n",
    "model2.add(tensorflow.keras.layers.Dense(90, activation='relu', name='Layer_4'))\n",
    "model2.add(tensorflow.keras.layers.Dense(60, activation='relu', name='Layer_5'))\n",
    "model2.add(tensorflow.keras.layers.Dense(30, activation='relu', name='Layer_6'))\n",
    "\n",
    "# Dropout layer\n",
    "model2.add(tensorflow.keras.layers.Dropout(0.3))\n",
    "\n",
    "#Output layer\n",
    "model2.add(tensorflow.keras.layers.Dense(10, activation='softmax', name='Output'))"
   ]
  },
  {
   "cell_type": "code",
   "execution_count": 201,
   "metadata": {},
   "outputs": [
    {
     "name": "stdout",
     "output_type": "stream",
     "text": [
      "Model: \"sequential_36\"\n",
      "_________________________________________________________________\n",
      "Layer (type)                 Output Shape              Param #   \n",
      "=================================================================\n",
      "reshape_35 (Reshape)         (None, 1024)              0         \n",
      "_________________________________________________________________\n",
      "batch_normalization_35 (Batc (None, 1024)              4096      \n",
      "_________________________________________________________________\n",
      "Layer_1 (Dense)              (None, 200)               205000    \n",
      "_________________________________________________________________\n",
      "Layer_2 (Dense)              (None, 100)               20100     \n",
      "_________________________________________________________________\n",
      "Layer_3 (Dense)              (None, 60)                6060      \n",
      "_________________________________________________________________\n",
      "dropout_70 (Dropout)         (None, 60)                0         \n",
      "_________________________________________________________________\n",
      "Layer_4 (Dense)              (None, 90)                5490      \n",
      "_________________________________________________________________\n",
      "Layer_5 (Dense)              (None, 60)                5460      \n",
      "_________________________________________________________________\n",
      "Layer_6 (Dense)              (None, 30)                1830      \n",
      "_________________________________________________________________\n",
      "dropout_71 (Dropout)         (None, 30)                0         \n",
      "_________________________________________________________________\n",
      "Output (Dense)               (None, 10)                310       \n",
      "=================================================================\n",
      "Total params: 248,346\n",
      "Trainable params: 246,298\n",
      "Non-trainable params: 2,048\n",
      "_________________________________________________________________\n",
      "None\n",
      "Epoch 1/50\n",
      "1050/1050 [==============================] - 6s 6ms/step - loss: 2.2739 - accuracy: 0.1289 - val_loss: 2.0681 - val_accuracy: 0.2288\n",
      "Epoch 2/50\n",
      "1050/1050 [==============================] - 5s 5ms/step - loss: 1.9181 - accuracy: 0.2856 - val_loss: 1.6146 - val_accuracy: 0.4330\n",
      "Epoch 3/50\n",
      "1050/1050 [==============================] - 5s 5ms/step - loss: 1.6542 - accuracy: 0.3944 - val_loss: 1.4043 - val_accuracy: 0.5136\n",
      "Epoch 4/50\n",
      "1050/1050 [==============================] - 6s 5ms/step - loss: 1.4881 - accuracy: 0.4748 - val_loss: 1.2549 - val_accuracy: 0.6023\n",
      "Epoch 5/50\n",
      "1050/1050 [==============================] - 6s 5ms/step - loss: 1.3639 - accuracy: 0.5331 - val_loss: 1.1109 - val_accuracy: 0.6551\n",
      "Epoch 6/50\n",
      "1050/1050 [==============================] - 6s 5ms/step - loss: 1.2607 - accuracy: 0.5790 - val_loss: 1.0436 - val_accuracy: 0.6782\n",
      "Epoch 7/50\n",
      "1050/1050 [==============================] - 6s 6ms/step - loss: 1.1693 - accuracy: 0.6187 - val_loss: 0.9567 - val_accuracy: 0.7039\n",
      "Epoch 8/50\n",
      "1050/1050 [==============================] - 6s 5ms/step - loss: 1.0983 - accuracy: 0.6461 - val_loss: 0.9103 - val_accuracy: 0.7294\n",
      "Epoch 9/50\n",
      "1050/1050 [==============================] - 5s 5ms/step - loss: 1.0505 - accuracy: 0.6649 - val_loss: 0.8984 - val_accuracy: 0.7420\n",
      "Epoch 10/50\n",
      "1050/1050 [==============================] - 6s 5ms/step - loss: 1.0011 - accuracy: 0.6874 - val_loss: 0.8117 - val_accuracy: 0.7675\n",
      "Epoch 11/50\n",
      "1050/1050 [==============================] - 6s 5ms/step - loss: 0.9605 - accuracy: 0.7058 - val_loss: 0.7995 - val_accuracy: 0.7807\n",
      "Epoch 12/50\n",
      "1050/1050 [==============================] - 6s 5ms/step - loss: 0.9174 - accuracy: 0.7232 - val_loss: 0.7842 - val_accuracy: 0.7861\n",
      "Epoch 13/50\n",
      "1050/1050 [==============================] - 6s 5ms/step - loss: 0.8826 - accuracy: 0.7355 - val_loss: 0.7774 - val_accuracy: 0.7812\n",
      "Epoch 14/50\n",
      "1050/1050 [==============================] - 6s 5ms/step - loss: 0.8610 - accuracy: 0.7441 - val_loss: 0.7250 - val_accuracy: 0.7929\n",
      "Epoch 15/50\n",
      "1050/1050 [==============================] - 6s 6ms/step - loss: 0.8416 - accuracy: 0.7515 - val_loss: 0.7129 - val_accuracy: 0.7969\n",
      "Epoch 16/50\n",
      "1050/1050 [==============================] - 6s 6ms/step - loss: 0.8123 - accuracy: 0.7608 - val_loss: 0.7093 - val_accuracy: 0.8010\n",
      "Epoch 17/50\n",
      "1050/1050 [==============================] - 6s 6ms/step - loss: 0.8042 - accuracy: 0.7647 - val_loss: 0.7328 - val_accuracy: 0.7938\n",
      "Epoch 18/50\n",
      "1050/1050 [==============================] - 6s 5ms/step - loss: 0.7728 - accuracy: 0.7734 - val_loss: 0.7098 - val_accuracy: 0.7999\n",
      "Epoch 19/50\n",
      "1050/1050 [==============================] - 6s 5ms/step - loss: 0.7623 - accuracy: 0.7771 - val_loss: 0.6588 - val_accuracy: 0.8189\n",
      "Epoch 20/50\n",
      "1050/1050 [==============================] - 6s 6ms/step - loss: 0.7430 - accuracy: 0.7839 - val_loss: 0.6854 - val_accuracy: 0.8065\n",
      "Epoch 21/50\n",
      "1050/1050 [==============================] - 6s 5ms/step - loss: 0.7279 - accuracy: 0.7898 - val_loss: 0.6640 - val_accuracy: 0.8158\n",
      "Epoch 22/50\n",
      "1050/1050 [==============================] - 6s 5ms/step - loss: 0.7235 - accuracy: 0.7908 - val_loss: 0.6355 - val_accuracy: 0.8227\n",
      "Epoch 23/50\n",
      "1050/1050 [==============================] - 6s 5ms/step - loss: 0.7172 - accuracy: 0.7920 - val_loss: 0.6435 - val_accuracy: 0.8179\n",
      "Epoch 24/50\n",
      "1050/1050 [==============================] - 6s 5ms/step - loss: 0.7015 - accuracy: 0.7948 - val_loss: 0.6299 - val_accuracy: 0.8282\n",
      "Epoch 25/50\n",
      "1050/1050 [==============================] - 6s 5ms/step - loss: 0.6916 - accuracy: 0.7993 - val_loss: 0.6232 - val_accuracy: 0.8231\n",
      "Epoch 26/50\n",
      "1050/1050 [==============================] - 6s 6ms/step - loss: 0.6841 - accuracy: 0.8030 - val_loss: 0.6267 - val_accuracy: 0.8271\n",
      "Epoch 27/50\n",
      "1050/1050 [==============================] - 5s 5ms/step - loss: 0.6719 - accuracy: 0.8062 - val_loss: 0.6246 - val_accuracy: 0.8229\n",
      "Epoch 28/50\n",
      "1050/1050 [==============================] - 6s 5ms/step - loss: 0.6671 - accuracy: 0.8069 - val_loss: 0.6159 - val_accuracy: 0.8281\n",
      "Epoch 29/50\n",
      "1050/1050 [==============================] - 6s 5ms/step - loss: 0.6582 - accuracy: 0.8105 - val_loss: 0.6199 - val_accuracy: 0.8208\n",
      "Epoch 30/50\n",
      "1050/1050 [==============================] - 6s 5ms/step - loss: 0.6426 - accuracy: 0.8126 - val_loss: 0.5985 - val_accuracy: 0.8304\n",
      "Epoch 31/50\n",
      "1050/1050 [==============================] - 6s 5ms/step - loss: 0.6437 - accuracy: 0.8135 - val_loss: 0.6139 - val_accuracy: 0.8250\n",
      "Epoch 32/50\n",
      "1050/1050 [==============================] - 6s 5ms/step - loss: 0.6405 - accuracy: 0.8156 - val_loss: 0.6131 - val_accuracy: 0.8255\n",
      "Epoch 33/50\n",
      "1050/1050 [==============================] - 6s 5ms/step - loss: 0.6374 - accuracy: 0.8168 - val_loss: 0.5967 - val_accuracy: 0.8288\n",
      "Epoch 34/50\n",
      "1050/1050 [==============================] - 6s 5ms/step - loss: 0.6242 - accuracy: 0.8217 - val_loss: 0.5775 - val_accuracy: 0.8414\n",
      "Epoch 35/50\n",
      "1050/1050 [==============================] - 6s 5ms/step - loss: 0.6196 - accuracy: 0.8206 - val_loss: 0.6205 - val_accuracy: 0.8251\n",
      "Epoch 36/50\n",
      "1050/1050 [==============================] - 6s 6ms/step - loss: 0.6156 - accuracy: 0.8242 - val_loss: 0.5870 - val_accuracy: 0.8356\n",
      "Epoch 37/50\n",
      "1050/1050 [==============================] - 6s 5ms/step - loss: 0.6062 - accuracy: 0.8263 - val_loss: 0.5892 - val_accuracy: 0.8331\n",
      "Epoch 38/50\n",
      "1050/1050 [==============================] - 6s 5ms/step - loss: 0.6083 - accuracy: 0.8265 - val_loss: 0.6218 - val_accuracy: 0.8240\n",
      "Epoch 39/50\n",
      "1050/1050 [==============================] - 6s 5ms/step - loss: 0.5988 - accuracy: 0.8279 - val_loss: 0.5760 - val_accuracy: 0.8367\n",
      "Epoch 40/50\n",
      "1050/1050 [==============================] - 6s 5ms/step - loss: 0.5940 - accuracy: 0.8286 - val_loss: 0.5954 - val_accuracy: 0.8335\n",
      "Epoch 41/50\n",
      "1050/1050 [==============================] - 6s 5ms/step - loss: 0.5951 - accuracy: 0.8269 - val_loss: 0.5961 - val_accuracy: 0.8277\n",
      "Epoch 42/50\n",
      "1050/1050 [==============================] - 6s 5ms/step - loss: 0.5902 - accuracy: 0.8303 - val_loss: 0.5714 - val_accuracy: 0.8415\n",
      "Epoch 43/50\n",
      "1050/1050 [==============================] - 6s 5ms/step - loss: 0.5650 - accuracy: 0.8381 - val_loss: 0.5679 - val_accuracy: 0.8411\n",
      "Epoch 44/50\n",
      "1050/1050 [==============================] - 6s 5ms/step - loss: 0.5776 - accuracy: 0.8316 - val_loss: 0.5578 - val_accuracy: 0.8396\n",
      "Epoch 45/50\n",
      "1050/1050 [==============================] - 6s 6ms/step - loss: 0.5693 - accuracy: 0.8329 - val_loss: 0.5535 - val_accuracy: 0.8424\n",
      "Epoch 46/50\n",
      "1050/1050 [==============================] - 6s 5ms/step - loss: 0.5568 - accuracy: 0.8407 - val_loss: 0.5688 - val_accuracy: 0.8370\n",
      "Epoch 47/50\n",
      "1050/1050 [==============================] - 6s 5ms/step - loss: 0.5655 - accuracy: 0.8366 - val_loss: 0.5531 - val_accuracy: 0.8423\n",
      "Epoch 48/50\n",
      "1050/1050 [==============================] - 6s 5ms/step - loss: 0.5627 - accuracy: 0.8410 - val_loss: 0.5693 - val_accuracy: 0.8411\n",
      "Epoch 49/50\n",
      "1050/1050 [==============================] - 6s 5ms/step - loss: 0.5543 - accuracy: 0.8415 - val_loss: 0.5721 - val_accuracy: 0.8358\n",
      "Epoch 50/50\n",
      "1050/1050 [==============================] - 6s 5ms/step - loss: 0.5503 - accuracy: 0.8410 - val_loss: 0.5272 - val_accuracy: 0.8504\n"
     ]
    }
   ],
   "source": [
    "model2.compile(optimizer='adam', loss='categorical_crossentropy', metrics=['accuracy'])\n",
    "print(model2.summary())\n",
    "history2 = model2.fit(X_train, y_train, validation_split=0.2, shuffle=True, epochs=50, batch_size = 32)"
   ]
  },
  {
   "cell_type": "code",
   "execution_count": 202,
   "metadata": {},
   "outputs": [],
   "source": [
    "models.append((\"Increase Layer\", model2))"
   ]
  },
  {
   "cell_type": "code",
   "execution_count": 203,
   "metadata": {},
   "outputs": [
    {
     "data": {
      "image/png": "[encoded data removed]",
      "text/plain": [
       "<Figure size 432x288 with 1 Axes>"
      ]
     },
     "metadata": {
      "needs_background": "light"
     },
     "output_type": "display_data"
    },
    {
     "data": {
      "image/png": "[encoded data removed]",
      "text/plain": [
       "<Figure size 432x288 with 1 Axes>"
      ]
     },
     "metadata": {
      "needs_background": "light"
     },
     "output_type": "display_data"
    }
   ],
   "source": [
    "plt.plot(history2.history['accuracy'])\n",
    "plt.plot(history2.history['val_accuracy'])\n",
    "plt.title('model accuracy')\n",
    "plt.ylabel('accuracy')\n",
    "plt.xlabel('epoch')\n",
    "plt.legend(['train', 'val'], loc='upper left')\n",
    "plt.show()\n",
    "\n",
    "plt.plot(history2.history['loss'])\n",
    "plt.plot(history2.history['val_loss'])\n",
    "plt.title('model loss')\n",
    "plt.ylabel('loss')\n",
    "plt.xlabel('epoch')\n",
    "plt.legend(['train', 'val'], loc='upper left')\n",
    "plt.show()"
   ]
  },
  {
   "cell_type": "code",
   "execution_count": 204,
   "metadata": {},
   "outputs": [
    {
     "name": "stdout",
     "output_type": "stream",
     "text": [
      "Model: \"sequential_37\"\n",
      "_________________________________________________________________\n",
      "Layer (type)                 Output Shape              Param #   \n",
      "=================================================================\n",
      "reshape_36 (Reshape)         (None, 1024)              0         \n",
      "_________________________________________________________________\n",
      "batch_normalization_36 (Batc (None, 1024)              4096      \n",
      "_________________________________________________________________\n",
      "Layer_1 (Dense)              (None, 400)               410000    \n",
      "_________________________________________________________________\n",
      "Layer_2 (Dense)              (None, 200)               80200     \n",
      "_________________________________________________________________\n",
      "dropout_72 (Dropout)         (None, 200)               0         \n",
      "_________________________________________________________________\n",
      "Layer_3 (Dense)              (None, 200)               40200     \n",
      "_________________________________________________________________\n",
      "Layer_4 (Dense)              (None, 100)               20100     \n",
      "_________________________________________________________________\n",
      "dropout_73 (Dropout)         (None, 100)               0         \n",
      "_________________________________________________________________\n",
      "Output (Dense)               (None, 10)                1010      \n",
      "=================================================================\n",
      "Total params: 555,606\n",
      "Trainable params: 553,558\n",
      "Non-trainable params: 2,048\n",
      "_________________________________________________________________\n",
      "None\n",
      "Epoch 1/50\n",
      "1050/1050 [==============================] - 10s 9ms/step - loss: 2.1091 - accuracy: 0.2124 - val_loss: 1.5991 - val_accuracy: 0.4385\n",
      "Epoch 2/50\n",
      "1050/1050 [==============================] - 9s 8ms/step - loss: 1.6287 - accuracy: 0.4311 - val_loss: 1.2151 - val_accuracy: 0.6056\n",
      "Epoch 3/50\n",
      "1050/1050 [==============================] - 9s 8ms/step - loss: 1.3816 - accuracy: 0.5420 - val_loss: 1.0005 - val_accuracy: 0.6883\n",
      "Epoch 4/50\n",
      "1050/1050 [==============================] - 9s 8ms/step - loss: 1.2249 - accuracy: 0.6073 - val_loss: 0.9031 - val_accuracy: 0.7302\n",
      "Epoch 5/50\n",
      "1050/1050 [==============================] - 9s 8ms/step - loss: 1.1043 - accuracy: 0.6537 - val_loss: 0.8538 - val_accuracy: 0.7488\n",
      "Epoch 6/50\n",
      "1050/1050 [==============================] - 9s 9ms/step - loss: 1.0221 - accuracy: 0.6839 - val_loss: 0.7961 - val_accuracy: 0.7617\n",
      "Epoch 7/50\n",
      "1050/1050 [==============================] - 9s 8ms/step - loss: 0.9514 - accuracy: 0.7066 - val_loss: 0.7872 - val_accuracy: 0.7614\n",
      "Epoch 8/50\n",
      "1050/1050 [==============================] - 9s 9ms/step - loss: 0.9011 - accuracy: 0.7257 - val_loss: 0.7117 - val_accuracy: 0.7833\n",
      "Epoch 9/50\n",
      "1050/1050 [==============================] - 9s 9ms/step - loss: 0.8628 - accuracy: 0.7359 - val_loss: 0.6684 - val_accuracy: 0.8045\n",
      "Epoch 10/50\n",
      "1050/1050 [==============================] - 9s 9ms/step - loss: 0.8257 - accuracy: 0.7499 - val_loss: 0.6772 - val_accuracy: 0.8035\n",
      "Epoch 11/50\n",
      "1050/1050 [==============================] - 9s 9ms/step - loss: 0.7977 - accuracy: 0.7587 - val_loss: 0.6256 - val_accuracy: 0.8163\n",
      "Epoch 12/50\n",
      "1050/1050 [==============================] - 9s 9ms/step - loss: 0.7831 - accuracy: 0.7626 - val_loss: 0.6036 - val_accuracy: 0.8229\n",
      "Epoch 13/50\n",
      "1050/1050 [==============================] - 9s 9ms/step - loss: 0.7499 - accuracy: 0.7725 - val_loss: 0.6204 - val_accuracy: 0.8111\n",
      "Epoch 14/50\n",
      "1050/1050 [==============================] - 9s 8ms/step - loss: 0.7346 - accuracy: 0.7773 - val_loss: 0.6351 - val_accuracy: 0.8112\n",
      "Epoch 15/50\n",
      "1050/1050 [==============================] - 9s 9ms/step - loss: 0.7138 - accuracy: 0.7839 - val_loss: 0.6345 - val_accuracy: 0.8138\n",
      "Epoch 16/50\n",
      "1050/1050 [==============================] - 9s 8ms/step - loss: 0.7083 - accuracy: 0.7839 - val_loss: 0.5855 - val_accuracy: 0.8311\n",
      "Epoch 17/50\n",
      "1050/1050 [==============================] - 9s 9ms/step - loss: 0.6987 - accuracy: 0.7899 - val_loss: 0.5660 - val_accuracy: 0.8355\n",
      "Epoch 18/50\n",
      "1050/1050 [==============================] - 9s 8ms/step - loss: 0.6813 - accuracy: 0.7920 - val_loss: 0.5704 - val_accuracy: 0.8337\n",
      "Epoch 19/50\n",
      "1050/1050 [==============================] - 9s 8ms/step - loss: 0.6646 - accuracy: 0.7969 - val_loss: 0.5648 - val_accuracy: 0.8308\n",
      "Epoch 20/50\n",
      "1050/1050 [==============================] - 9s 9ms/step - loss: 0.6676 - accuracy: 0.7963 - val_loss: 0.5756 - val_accuracy: 0.8310\n",
      "Epoch 21/50\n",
      "1050/1050 [==============================] - 9s 9ms/step - loss: 0.6477 - accuracy: 0.8032 - val_loss: 0.5722 - val_accuracy: 0.8345\n",
      "Epoch 22/50\n",
      "1050/1050 [==============================] - 9s 9ms/step - loss: 0.6365 - accuracy: 0.8073 - val_loss: 0.5528 - val_accuracy: 0.8398\n",
      "Epoch 23/50\n",
      "1050/1050 [==============================] - 9s 9ms/step - loss: 0.6275 - accuracy: 0.8091 - val_loss: 0.5445 - val_accuracy: 0.8419\n",
      "Epoch 24/50\n",
      "1050/1050 [==============================] - 9s 9ms/step - loss: 0.6231 - accuracy: 0.8114 - val_loss: 0.5301 - val_accuracy: 0.8483\n",
      "Epoch 25/50\n",
      "1050/1050 [==============================] - 9s 9ms/step - loss: 0.6271 - accuracy: 0.8097 - val_loss: 0.5587 - val_accuracy: 0.8363\n",
      "Epoch 26/50\n",
      "1050/1050 [==============================] - 9s 9ms/step - loss: 0.6102 - accuracy: 0.8156 - val_loss: 0.5522 - val_accuracy: 0.8379\n",
      "Epoch 27/50\n",
      "1050/1050 [==============================] - 9s 9ms/step - loss: 0.6041 - accuracy: 0.8185 - val_loss: 0.5500 - val_accuracy: 0.8395\n",
      "Epoch 28/50\n",
      "1050/1050 [==============================] - 9s 9ms/step - loss: 0.6028 - accuracy: 0.8169 - val_loss: 0.5285 - val_accuracy: 0.8439\n",
      "Epoch 29/50\n",
      "1050/1050 [==============================] - 9s 9ms/step - loss: 0.5922 - accuracy: 0.8211 - val_loss: 0.5444 - val_accuracy: 0.8432\n",
      "Epoch 30/50\n",
      "1050/1050 [==============================] - 10s 9ms/step - loss: 0.5929 - accuracy: 0.8219 - val_loss: 0.5331 - val_accuracy: 0.8449\n",
      "Epoch 31/50\n",
      "1050/1050 [==============================] - 9s 9ms/step - loss: 0.5898 - accuracy: 0.8215 - val_loss: 0.5147 - val_accuracy: 0.8539\n",
      "Epoch 32/50\n",
      "1050/1050 [==============================] - 9s 9ms/step - loss: 0.5682 - accuracy: 0.8268 - val_loss: 0.5477 - val_accuracy: 0.8433\n",
      "Epoch 33/50\n",
      "1050/1050 [==============================] - 9s 9ms/step - loss: 0.5692 - accuracy: 0.8285 - val_loss: 0.5333 - val_accuracy: 0.8500\n",
      "Epoch 34/50\n",
      "1050/1050 [==============================] - 9s 9ms/step - loss: 0.5678 - accuracy: 0.8257 - val_loss: 0.5233 - val_accuracy: 0.8499\n",
      "Epoch 35/50\n",
      "1050/1050 [==============================] - 9s 9ms/step - loss: 0.5636 - accuracy: 0.8277 - val_loss: 0.5348 - val_accuracy: 0.8475\n",
      "Epoch 36/50\n",
      "1050/1050 [==============================] - 9s 9ms/step - loss: 0.5523 - accuracy: 0.8326 - val_loss: 0.5566 - val_accuracy: 0.8421\n",
      "Epoch 37/50\n",
      "1050/1050 [==============================] - 9s 9ms/step - loss: 0.5570 - accuracy: 0.8300 - val_loss: 0.5044 - val_accuracy: 0.8589\n",
      "Epoch 38/50\n",
      "1050/1050 [==============================] - 9s 9ms/step - loss: 0.5480 - accuracy: 0.8314 - val_loss: 0.5160 - val_accuracy: 0.8506\n",
      "Epoch 39/50\n",
      "1050/1050 [==============================] - 9s 9ms/step - loss: 0.5520 - accuracy: 0.8327 - val_loss: 0.5091 - val_accuracy: 0.8515\n",
      "Epoch 40/50\n",
      "1050/1050 [==============================] - 9s 9ms/step - loss: 0.5410 - accuracy: 0.8371 - val_loss: 0.5245 - val_accuracy: 0.8458\n",
      "Epoch 41/50\n",
      "1050/1050 [==============================] - 9s 9ms/step - loss: 0.5419 - accuracy: 0.8364 - val_loss: 0.5059 - val_accuracy: 0.8575\n",
      "Epoch 42/50\n",
      "1050/1050 [==============================] - 9s 9ms/step - loss: 0.5405 - accuracy: 0.8378 - val_loss: 0.5371 - val_accuracy: 0.8508\n",
      "Epoch 43/50\n",
      "1050/1050 [==============================] - 9s 9ms/step - loss: 0.5305 - accuracy: 0.8388 - val_loss: 0.5083 - val_accuracy: 0.8565\n",
      "Epoch 44/50\n",
      "1050/1050 [==============================] - 10s 9ms/step - loss: 0.5250 - accuracy: 0.8406 - val_loss: 0.5143 - val_accuracy: 0.8515\n",
      "Epoch 45/50\n",
      "1050/1050 [==============================] - 9s 9ms/step - loss: 0.5291 - accuracy: 0.8409 - val_loss: 0.4942 - val_accuracy: 0.8619\n",
      "Epoch 46/50\n",
      "1050/1050 [==============================] - 9s 9ms/step - loss: 0.5215 - accuracy: 0.8411 - val_loss: 0.5170 - val_accuracy: 0.8500\n",
      "Epoch 47/50\n",
      "1050/1050 [==============================] - 9s 9ms/step - loss: 0.5236 - accuracy: 0.8424 - val_loss: 0.5138 - val_accuracy: 0.8539\n",
      "Epoch 48/50\n",
      "1050/1050 [==============================] - 10s 9ms/step - loss: 0.5111 - accuracy: 0.8450 - val_loss: 0.5110 - val_accuracy: 0.8540\n",
      "Epoch 49/50\n",
      "1050/1050 [==============================] - 10s 9ms/step - loss: 0.5194 - accuracy: 0.8447 - val_loss: 0.5143 - val_accuracy: 0.8586\n",
      "Epoch 50/50\n",
      "1050/1050 [==============================] - 10s 9ms/step - loss: 0.5136 - accuracy: 0.8451 - val_loss: 0.5210 - val_accuracy: 0.8518\n"
     ]
    }
   ],
   "source": [
    "model3 = tensorflow.keras.models.Sequential()\n",
    "\n",
    "# Reshape data from 2D to 1D -> 32x32 to 1024\n",
    "model3.add(tensorflow.keras.layers.Reshape((1024,),input_shape=(32,32,)))\n",
    "\n",
    "# Normalize the data\n",
    "model3.add(tensorflow.keras.layers.BatchNormalization())\n",
    "# Hidden layers\n",
    "model3.add(tensorflow.keras.layers.Dense(400, activation='relu', name='Layer_1'))\n",
    "model3.add(tensorflow.keras.layers.Dense(200, activation='relu', name='Layer_2'))\n",
    "\n",
    "\n",
    "# Dropout layer\n",
    "model3.add(tensorflow.keras.layers.Dropout(0.5))\n",
    "\n",
    "# Hidden layers\n",
    "model3.add(tensorflow.keras.layers.Dense(200, activation='relu', name='Layer_3'))\n",
    "model3.add(tensorflow.keras.layers.Dense(100, activation='relu', name='Layer_4'))\n",
    "\n",
    "# Dropout layer\n",
    "model3.add(tensorflow.keras.layers.Dropout(0.3))\n",
    "\n",
    "#Output layer\n",
    "model3.add(tensorflow.keras.layers.Dense(10, activation='softmax', name='Output'))\n",
    "model3.compile(optimizer='adam', loss='categorical_crossentropy', metrics=['accuracy'])\n",
    "print(model3.summary())\n",
    "history3 = model3.fit(X_train, y_train, validation_split=0.2, shuffle=True, epochs=50, batch_size = 32)"
   ]
  },
  {
   "cell_type": "code",
   "execution_count": 205,
   "metadata": {},
   "outputs": [],
   "source": [
    "models.append((\"Increase Neurons\", model3))"
   ]
  },
  {
   "cell_type": "code",
   "execution_count": 206,
   "metadata": {},
   "outputs": [
    {
     "data": {
      "image/png": "[encoded data removed]",
      "text/plain": [
       "<Figure size 432x288 with 1 Axes>"
      ]
     },
     "metadata": {
      "needs_background": "light"
     },
     "output_type": "display_data"
    },
    {
     "data": {
      "image/png": "[encoded data removed]",
      "text/plain": [
       "<Figure size 432x288 with 1 Axes>"
      ]
     },
     "metadata": {
      "needs_background": "light"
     },
     "output_type": "display_data"
    }
   ],
   "source": [
    "plt.plot(history3.history['accuracy'])\n",
    "plt.plot(history3.history['val_accuracy'])\n",
    "plt.title('model accuracy')\n",
    "plt.ylabel('accuracy')\n",
    "plt.xlabel('epoch')\n",
    "plt.legend(['train', 'val'], loc='upper left')\n",
    "plt.show()\n",
    "\n",
    "plt.plot(history3.history['loss'])\n",
    "plt.plot(history3.history['val_loss'])\n",
    "plt.title('model loss')\n",
    "plt.ylabel('loss')\n",
    "plt.xlabel('epoch')\n",
    "plt.legend(['train', 'val'], loc='upper left')\n",
    "plt.show()"
   ]
  },
  {
   "cell_type": "code",
   "execution_count": 207,
   "metadata": {},
   "outputs": [
    {
     "name": "stdout",
     "output_type": "stream",
     "text": [
      "Model: \"sequential_38\"\n",
      "_________________________________________________________________\n",
      "Layer (type)                 Output Shape              Param #   \n",
      "=================================================================\n",
      "reshape_37 (Reshape)         (None, 1024)              0         \n",
      "_________________________________________________________________\n",
      "batch_normalization_37 (Batc (None, 1024)              4096      \n",
      "_________________________________________________________________\n",
      "Layer_1 (Dense)              (None, 500)               512500    \n",
      "_________________________________________________________________\n",
      "Layer_2 (Dense)              (None, 400)               200400    \n",
      "_________________________________________________________________\n",
      "Layer_3 (Dense)              (None, 400)               160400    \n",
      "_________________________________________________________________\n",
      "Layer_4 (Dense)              (None, 300)               120300    \n",
      "_________________________________________________________________\n",
      "dropout_74 (Dropout)         (None, 300)               0         \n",
      "_________________________________________________________________\n",
      "Layer_5 (Dense)              (None, 300)               90300     \n",
      "_________________________________________________________________\n",
      "Layer_6 (Dense)              (None, 200)               60200     \n",
      "_________________________________________________________________\n",
      "Layer_7 (Dense)              (None, 100)               20100     \n",
      "_________________________________________________________________\n",
      "dropout_75 (Dropout)         (None, 100)               0         \n",
      "_________________________________________________________________\n",
      "Output (Dense)               (None, 10)                1010      \n",
      "=================================================================\n",
      "Total params: 1,169,306\n",
      "Trainable params: 1,167,258\n",
      "Non-trainable params: 2,048\n",
      "_________________________________________________________________\n",
      "None\n",
      "Epoch 1/50\n",
      "657/657 [==============================] - 20s 30ms/step - loss: 1.9570 - accuracy: 0.2665 - val_loss: 1.3405 - val_accuracy: 0.5442\n",
      "Epoch 2/50\n",
      "657/657 [==============================] - 19s 28ms/step - loss: 1.2708 - accuracy: 0.5864 - val_loss: 0.9777 - val_accuracy: 0.6976\n",
      "Epoch 3/50\n",
      "657/657 [==============================] - 19s 29ms/step - loss: 1.0228 - accuracy: 0.6899 - val_loss: 0.8334 - val_accuracy: 0.7512\n",
      "Epoch 4/50\n",
      "657/657 [==============================] - 17s 26ms/step - loss: 0.8834 - accuracy: 0.7377 - val_loss: 0.7587 - val_accuracy: 0.7769\n",
      "Epoch 5/50\n",
      "657/657 [==============================] - 17s 26ms/step - loss: 0.7901 - accuracy: 0.7656 - val_loss: 0.7051 - val_accuracy: 0.7893\n",
      "Epoch 6/50\n",
      "657/657 [==============================] - 17s 26ms/step - loss: 0.7309 - accuracy: 0.7859 - val_loss: 0.6860 - val_accuracy: 0.7983\n",
      "Epoch 7/50\n",
      "657/657 [==============================] - 17s 26ms/step - loss: 0.6888 - accuracy: 0.7965 - val_loss: 0.6578 - val_accuracy: 0.8093\n",
      "Epoch 8/50\n",
      "657/657 [==============================] - 17s 25ms/step - loss: 0.6407 - accuracy: 0.8100 - val_loss: 0.6156 - val_accuracy: 0.8228\n",
      "Epoch 9/50\n",
      "657/657 [==============================] - 17s 26ms/step - loss: 0.6178 - accuracy: 0.8169 - val_loss: 0.6102 - val_accuracy: 0.8221\n",
      "Epoch 10/50\n",
      "657/657 [==============================] - 17s 26ms/step - loss: 0.5847 - accuracy: 0.8261 - val_loss: 0.5863 - val_accuracy: 0.8307\n",
      "Epoch 11/50\n",
      "657/657 [==============================] - 17s 26ms/step - loss: 0.5671 - accuracy: 0.8322 - val_loss: 0.5816 - val_accuracy: 0.8332\n",
      "Epoch 12/50\n",
      "657/657 [==============================] - 17s 26ms/step - loss: 0.5369 - accuracy: 0.8400 - val_loss: 0.5810 - val_accuracy: 0.8354\n",
      "Epoch 13/50\n",
      "657/657 [==============================] - 18s 27ms/step - loss: 0.5227 - accuracy: 0.8453 - val_loss: 0.5773 - val_accuracy: 0.8403\n",
      "Epoch 14/50\n",
      "657/657 [==============================] - 17s 26ms/step - loss: 0.5112 - accuracy: 0.8494 - val_loss: 0.6027 - val_accuracy: 0.8319\n",
      "Epoch 15/50\n",
      "657/657 [==============================] - 17s 26ms/step - loss: 0.4964 - accuracy: 0.8555 - val_loss: 0.5876 - val_accuracy: 0.8333\n",
      "Epoch 16/50\n",
      "657/657 [==============================] - 18s 28ms/step - loss: 0.4738 - accuracy: 0.8599 - val_loss: 0.5584 - val_accuracy: 0.8408\n",
      "Epoch 17/50\n",
      "657/657 [==============================] - 19s 28ms/step - loss: 0.4646 - accuracy: 0.8613 - val_loss: 0.5523 - val_accuracy: 0.8412\n",
      "Epoch 18/50\n",
      "657/657 [==============================] - 17s 26ms/step - loss: 0.4510 - accuracy: 0.8687 - val_loss: 0.5766 - val_accuracy: 0.8424\n",
      "Epoch 19/50\n",
      "657/657 [==============================] - 18s 27ms/step - loss: 0.4407 - accuracy: 0.8701 - val_loss: 0.5781 - val_accuracy: 0.8391\n",
      "Epoch 20/50\n",
      "657/657 [==============================] - 17s 26ms/step - loss: 0.4250 - accuracy: 0.8746 - val_loss: 0.5529 - val_accuracy: 0.8484\n",
      "Epoch 21/50\n",
      "657/657 [==============================] - 17s 26ms/step - loss: 0.4213 - accuracy: 0.8744 - val_loss: 0.5543 - val_accuracy: 0.8452\n",
      "Epoch 22/50\n",
      "657/657 [==============================] - 18s 27ms/step - loss: 0.4100 - accuracy: 0.8789 - val_loss: 0.5544 - val_accuracy: 0.8483\n",
      "Epoch 23/50\n",
      "657/657 [==============================] - 17s 26ms/step - loss: 0.4017 - accuracy: 0.8810 - val_loss: 0.5732 - val_accuracy: 0.8496\n",
      "Epoch 24/50\n",
      "657/657 [==============================] - 17s 26ms/step - loss: 0.3956 - accuracy: 0.8830 - val_loss: 0.5511 - val_accuracy: 0.8560\n",
      "Epoch 25/50\n",
      "657/657 [==============================] - 17s 27ms/step - loss: 0.3896 - accuracy: 0.8844 - val_loss: 0.5546 - val_accuracy: 0.8534\n",
      "Epoch 26/50\n",
      "657/657 [==============================] - 18s 28ms/step - loss: 0.3855 - accuracy: 0.8875 - val_loss: 0.5811 - val_accuracy: 0.8491\n",
      "Epoch 27/50\n",
      "657/657 [==============================] - 18s 28ms/step - loss: 0.3644 - accuracy: 0.8930 - val_loss: 0.5521 - val_accuracy: 0.8563\n",
      "Epoch 28/50\n",
      "657/657 [==============================] - 18s 27ms/step - loss: 0.3511 - accuracy: 0.8986 - val_loss: 0.5659 - val_accuracy: 0.8493\n",
      "Epoch 29/50\n",
      "657/657 [==============================] - 24s 36ms/step - loss: 0.3608 - accuracy: 0.8945 - val_loss: 0.5843 - val_accuracy: 0.8477\n",
      "Epoch 30/50\n",
      "657/657 [==============================] - 22s 34ms/step - loss: 0.3474 - accuracy: 0.8964 - val_loss: 0.5702 - val_accuracy: 0.8598\n",
      "Epoch 31/50\n",
      "657/657 [==============================] - 21s 32ms/step - loss: 0.3485 - accuracy: 0.8962 - val_loss: 0.5967 - val_accuracy: 0.8479\n",
      "Epoch 32/50\n",
      "657/657 [==============================] - 21s 32ms/step - loss: 0.3458 - accuracy: 0.8981 - val_loss: 0.5622 - val_accuracy: 0.8535\n",
      "Epoch 33/50\n",
      "657/657 [==============================] - 22s 33ms/step - loss: 0.3286 - accuracy: 0.9035 - val_loss: 0.5989 - val_accuracy: 0.8551\n",
      "Epoch 34/50\n",
      "657/657 [==============================] - 19s 29ms/step - loss: 0.3303 - accuracy: 0.9032 - val_loss: 0.5626 - val_accuracy: 0.8598\n",
      "Epoch 35/50\n",
      "657/657 [==============================] - 21s 32ms/step - loss: 0.3288 - accuracy: 0.9041 - val_loss: 0.5649 - val_accuracy: 0.8564\n",
      "Epoch 36/50\n",
      "657/657 [==============================] - 21s 33ms/step - loss: 0.3201 - accuracy: 0.9063 - val_loss: 0.5893 - val_accuracy: 0.8554\n",
      "Epoch 37/50\n",
      "657/657 [==============================] - 20s 30ms/step - loss: 0.3106 - accuracy: 0.9102 - val_loss: 0.6054 - val_accuracy: 0.8555\n",
      "Epoch 38/50\n",
      "657/657 [==============================] - 20s 30ms/step - loss: 0.3126 - accuracy: 0.9081 - val_loss: 0.5921 - val_accuracy: 0.8500\n",
      "Epoch 39/50\n",
      "657/657 [==============================] - 20s 30ms/step - loss: 0.3068 - accuracy: 0.9100 - val_loss: 0.5881 - val_accuracy: 0.8594\n",
      "Epoch 40/50\n",
      "657/657 [==============================] - 21s 32ms/step - loss: 0.2975 - accuracy: 0.9116 - val_loss: 0.6128 - val_accuracy: 0.8569\n",
      "Epoch 41/50\n",
      "657/657 [==============================] - 21s 32ms/step - loss: 0.2955 - accuracy: 0.9131 - val_loss: 0.5768 - val_accuracy: 0.8591\n",
      "Epoch 42/50\n",
      "657/657 [==============================] - 20s 30ms/step - loss: 0.2894 - accuracy: 0.9142 - val_loss: 0.6062 - val_accuracy: 0.8604\n",
      "Epoch 43/50\n",
      "657/657 [==============================] - 19s 30ms/step - loss: 0.2934 - accuracy: 0.9137 - val_loss: 0.6050 - val_accuracy: 0.8535\n",
      "Epoch 44/50\n",
      "657/657 [==============================] - 21s 32ms/step - loss: 0.2931 - accuracy: 0.9149 - val_loss: 0.6309 - val_accuracy: 0.8568\n",
      "Epoch 45/50\n",
      "657/657 [==============================] - 21s 32ms/step - loss: 0.2703 - accuracy: 0.9196 - val_loss: 0.5974 - val_accuracy: 0.8605\n",
      "Epoch 46/50\n",
      "657/657 [==============================] - 20s 30ms/step - loss: 0.2775 - accuracy: 0.9195 - val_loss: 0.6174 - val_accuracy: 0.8595\n",
      "Epoch 47/50\n",
      "657/657 [==============================] - 20s 31ms/step - loss: 0.2770 - accuracy: 0.9186 - val_loss: 0.5765 - val_accuracy: 0.8572\n",
      "Epoch 48/50\n",
      "657/657 [==============================] - 21s 33ms/step - loss: 0.2749 - accuracy: 0.9215 - val_loss: 0.6086 - val_accuracy: 0.8591\n",
      "Epoch 49/50\n",
      "657/657 [==============================] - 23s 35ms/step - loss: 0.2743 - accuracy: 0.9207 - val_loss: 0.5941 - val_accuracy: 0.8598\n",
      "Epoch 50/50\n",
      "657/657 [==============================] - 23s 35ms/step - loss: 0.2754 - accuracy: 0.9221 - val_loss: 0.6029 - val_accuracy: 0.8538\n"
     ]
    }
   ],
   "source": [
    "model4 = tensorflow.keras.models.Sequential()\n",
    "\n",
    "# Reshape data from 2D to 1D -> 32x32 to 1024\n",
    "model4.add(tensorflow.keras.layers.Reshape((1024,),input_shape=(32,32,)))\n",
    "\n",
    "# Normalize the data\n",
    "model4.add(tensorflow.keras.layers.BatchNormalization())\n",
    "# Hidden layers\n",
    "model4.add(tensorflow.keras.layers.Dense(500, activation='relu', name='Layer_1'))\n",
    "model4.add(tensorflow.keras.layers.Dense(400, activation='relu', name='Layer_2'))\n",
    "# Dropout layer\n",
    "# model4.add(tensorflow.keras.layers.Dropout(0.2))\n",
    "model4.add(tensorflow.keras.layers.Dense(400, activation='relu', name='Layer_3'))\n",
    "model4.add(tensorflow.keras.layers.Dense(300, activation='relu', name='Layer_4'))\n",
    "\n",
    "\n",
    "# Dropout layer\n",
    "model4.add(tensorflow.keras.layers.Dropout(0.5))\n",
    "\n",
    "# Hidden layers\n",
    "model4.add(tensorflow.keras.layers.Dense(300, activation='relu', name='Layer_5'))\n",
    "model4.add(tensorflow.keras.layers.Dense(200, activation='relu', name='Layer_6'))\n",
    "model4.add(tensorflow.keras.layers.Dense(100, activation='relu', name='Layer_7'))\n",
    "\n",
    "# Dropout layer\n",
    "model4.add(tensorflow.keras.layers.Dropout(0.3))\n",
    "\n",
    "#Output layer\n",
    "model4.add(tensorflow.keras.layers.Dense(10, activation='softmax', name='Output'))\n",
    "model4.compile(optimizer='adam', loss='categorical_crossentropy', metrics=['accuracy'])\n",
    "print(model4.summary())\n",
    "history4=model4.fit(X_train, y_train, validation_data=(X_test, y_test), epochs=50, batch_size = 64)"
   ]
  },
  {
   "cell_type": "code",
   "execution_count": 208,
   "metadata": {},
   "outputs": [],
   "source": [
    "models.append((\"Increase both Layers and Neurons\", model4))"
   ]
  },
  {
   "cell_type": "code",
   "execution_count": 209,
   "metadata": {},
   "outputs": [
    {
     "data": {
      "image/png": "[encoded data removed]",
      "text/plain": [
       "<Figure size 432x288 with 1 Axes>"
      ]
     },
     "metadata": {
      "needs_background": "light"
     },
     "output_type": "display_data"
    },
    {
     "data": {
      "image/png": "[encoded data removed]",
      "text/plain": [
       "<Figure size 432x288 with 1 Axes>"
      ]
     },
     "metadata": {
      "needs_background": "light"
     },
     "output_type": "display_data"
    }
   ],
   "source": [
    "plt.plot(history4.history['accuracy'])\n",
    "plt.plot(history4.history['val_accuracy'])\n",
    "plt.title('model accuracy')\n",
    "plt.ylabel('accuracy')\n",
    "plt.xlabel('epoch')\n",
    "plt.legend(['train', 'val'], loc='upper left')\n",
    "plt.show()\n",
    "\n",
    "plt.plot(history4.history['loss'])\n",
    "plt.plot(history4.history['val_loss'])\n",
    "plt.title('model loss')\n",
    "plt.ylabel('loss')\n",
    "plt.xlabel('epoch')\n",
    "plt.legend(['train', 'val'], loc='upper left')\n",
    "plt.show()"
   ]
  },
  {
   "cell_type": "markdown",
   "metadata": {},
   "source": [
    "#### Consolidate Model Results"
   ]
  },
  {
   "cell_type": "code",
   "execution_count": 210,
   "metadata": {},
   "outputs": [
    {
     "name": "stdout",
     "output_type": "stream",
     "text": [
      "---------- Evaluating Models -----------\n",
      "**** Base Model\n",
      "563/563 [==============================] - 1s 2ms/step - loss: 0.5299 - accuracy: 0.8501\n",
      "**** Validation Result: [0.5299261808395386, 0.8500555753707886]\n",
      "**** Increase Layer\n",
      "563/563 [==============================] - 1s 2ms/step - loss: 0.5371 - accuracy: 0.8508\n",
      "**** Validation Result: [0.5371163487434387, 0.850777804851532]\n",
      "**** Increase Neurons\n",
      "563/563 [==============================] - 2s 3ms/step - loss: 0.5522 - accuracy: 0.8448\n",
      "**** Validation Result: [0.5521681904792786, 0.8447777628898621]\n",
      "**** Increase both Layers and Neurons\n",
      "563/563 [==============================] - 3s 5ms/step - loss: 0.6029 - accuracy: 0.8538\n",
      "**** Validation Result: [0.6029410362243652, 0.8537777662277222]\n"
     ]
    }
   ],
   "source": [
    "print('---------- Evaluating Models -----------')\n",
    "for name, model in models:\n",
    "    print(f'**** {name}')\n",
    "    print(\"**** Validation Result:\",model.evaluate(X_test, y_test))\n",
    "    "
   ]
  },
  {
   "cell_type": "markdown",
   "metadata": {},
   "source": [
    "#### Classification Accuracy Metrics"
   ]
  },
  {
   "cell_type": "code",
   "execution_count": 211,
   "metadata": {},
   "outputs": [
    {
     "name": "stdout",
     "output_type": "stream",
     "text": [
      "***** Classification Accuracy Metrics : Base Model *****\n",
      "              precision    recall  f1-score   support\n",
      "\n",
      "           0       0.83      0.90      0.86      1814\n",
      "           1       0.80      0.88      0.84      1828\n",
      "           2       0.87      0.87      0.87      1803\n",
      "           3       0.86      0.78      0.82      1719\n",
      "           4       0.87      0.88      0.88      1812\n",
      "           5       0.79      0.88      0.84      1768\n",
      "           6       0.87      0.83      0.85      1832\n",
      "           7       0.88      0.88      0.88      1808\n",
      "           8       0.86      0.81      0.84      1812\n",
      "           9       0.87      0.79      0.83      1804\n",
      "\n",
      "    accuracy                           0.85     18000\n",
      "   macro avg       0.85      0.85      0.85     18000\n",
      "weighted avg       0.85      0.85      0.85     18000\n",
      "\n",
      "***** Classification Accuracy Metrics : Increase Layer *****\n",
      "              precision    recall  f1-score   support\n",
      "\n",
      "           0       0.88      0.89      0.88      1814\n",
      "           1       0.76      0.91      0.83      1828\n",
      "           2       0.88      0.87      0.87      1803\n",
      "           3       0.80      0.82      0.81      1719\n",
      "           4       0.88      0.89      0.88      1812\n",
      "           5       0.86      0.84      0.85      1768\n",
      "           6       0.87      0.83      0.85      1832\n",
      "           7       0.90      0.86      0.88      1808\n",
      "           8       0.81      0.81      0.81      1812\n",
      "           9       0.89      0.79      0.84      1804\n",
      "\n",
      "    accuracy                           0.85     18000\n",
      "   macro avg       0.85      0.85      0.85     18000\n",
      "weighted avg       0.85      0.85      0.85     18000\n",
      "\n",
      "***** Classification Accuracy Metrics : Increase Neurons *****\n",
      "              precision    recall  f1-score   support\n",
      "\n",
      "           0       0.84      0.91      0.87      1814\n",
      "           1       0.79      0.90      0.84      1828\n",
      "           2       0.94      0.82      0.87      1803\n",
      "           3       0.80      0.79      0.79      1719\n",
      "           4       0.91      0.85      0.88      1812\n",
      "           5       0.77      0.86      0.81      1768\n",
      "           6       0.85      0.83      0.84      1832\n",
      "           7       0.87      0.89      0.88      1808\n",
      "           8       0.86      0.79      0.82      1812\n",
      "           9       0.86      0.80      0.83      1804\n",
      "\n",
      "    accuracy                           0.84     18000\n",
      "   macro avg       0.85      0.84      0.84     18000\n",
      "weighted avg       0.85      0.84      0.84     18000\n",
      "\n",
      "***** Classification Accuracy Metrics : Increase both Layers and Neurons *****\n",
      "              precision    recall  f1-score   support\n",
      "\n",
      "           0       0.84      0.89      0.87      1814\n",
      "           1       0.82      0.89      0.85      1828\n",
      "           2       0.88      0.86      0.87      1803\n",
      "           3       0.84      0.79      0.82      1719\n",
      "           4       0.88      0.90      0.89      1812\n",
      "           5       0.85      0.84      0.84      1768\n",
      "           6       0.83      0.86      0.84      1832\n",
      "           7       0.88      0.90      0.89      1808\n",
      "           8       0.85      0.79      0.82      1812\n",
      "           9       0.87      0.82      0.84      1804\n",
      "\n",
      "    accuracy                           0.85     18000\n",
      "   macro avg       0.85      0.85      0.85     18000\n",
      "weighted avg       0.85      0.85      0.85     18000\n",
      "\n"
     ]
    }
   ],
   "source": [
    "for name, model in models:\n",
    "    print(f'***** Classification Accuracy Metrics : {name} *****')\n",
    "    Y_test = np.argmax(y_test, axis=1) # Convert one-hot to index\n",
    "    y_pred =np.argmax(model.predict(X_test), axis=-1)\n",
    "    print(classification_report(Y_test, y_pred))\n",
    "          "
   ]
  },
  {
   "cell_type": "markdown",
   "metadata": {},
   "source": [
    "#### Model 4 where we have increased both the number of neurons and number of layers has moved to the overfit zone."
   ]
  },
  {
   "cell_type": "code",
   "execution_count": 79,
   "metadata": {},
   "outputs": [],
   "source": []
  }
 ],
 "metadata": {
  "kernelspec": {
   "display_name": "Python 3",
   "language": "python",
   "name": "python3"
  },
  "language_info": {
   "codemirror_mode": {
    "name": "ipython",
    "version": 3
   },
   "file_extension": ".py",
   "mimetype": "text/x-python",
   "name": "python",
   "nbconvert_exporter": "python",
   "pygments_lexer": "ipython3",
   "version": "3.7.7"
  }
 },
 "nbformat": 4,
 "nbformat_minor": 4
}
